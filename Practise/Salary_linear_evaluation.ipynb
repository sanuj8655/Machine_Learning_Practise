{
 "cells": [
  {
   "cell_type": "markdown",
   "id": "06800f3c",
   "metadata": {},
   "source": [
    "## Single Linear Regression"
   ]
  },
  {
   "cell_type": "markdown",
   "id": "53c63466",
   "metadata": {},
   "source": [
    "### import required package"
   ]
  },
  {
   "cell_type": "code",
   "execution_count": 1,
   "id": "dbc58938",
   "metadata": {},
   "outputs": [],
   "source": [
    "import numpy as np\n",
    "import pandas as pd\n",
    "import seaborn as sns\n",
    "import matplotlib.pyplot as plt\n"
   ]
  },
  {
   "cell_type": "markdown",
   "id": "3ffa5b6c",
   "metadata": {},
   "source": [
    "### read data from source and describing"
   ]
  },
  {
   "cell_type": "code",
   "execution_count": 2,
   "id": "b52f0af3",
   "metadata": {},
   "outputs": [
    {
     "data": {
      "text/html": [
       "<div>\n",
       "<style scoped>\n",
       "    .dataframe tbody tr th:only-of-type {\n",
       "        vertical-align: middle;\n",
       "    }\n",
       "\n",
       "    .dataframe tbody tr th {\n",
       "        vertical-align: top;\n",
       "    }\n",
       "\n",
       "    .dataframe thead th {\n",
       "        text-align: right;\n",
       "    }\n",
       "</style>\n",
       "<table border=\"1\" class=\"dataframe\">\n",
       "  <thead>\n",
       "    <tr style=\"text-align: right;\">\n",
       "      <th></th>\n",
       "      <th>YearsExperience</th>\n",
       "      <th>Salary</th>\n",
       "    </tr>\n",
       "  </thead>\n",
       "  <tbody>\n",
       "    <tr>\n",
       "      <th>0</th>\n",
       "      <td>1.1</td>\n",
       "      <td>39343</td>\n",
       "    </tr>\n",
       "    <tr>\n",
       "      <th>1</th>\n",
       "      <td>1.3</td>\n",
       "      <td>46205</td>\n",
       "    </tr>\n",
       "    <tr>\n",
       "      <th>2</th>\n",
       "      <td>1.5</td>\n",
       "      <td>37731</td>\n",
       "    </tr>\n",
       "    <tr>\n",
       "      <th>3</th>\n",
       "      <td>2.0</td>\n",
       "      <td>43525</td>\n",
       "    </tr>\n",
       "    <tr>\n",
       "      <th>4</th>\n",
       "      <td>2.2</td>\n",
       "      <td>39891</td>\n",
       "    </tr>\n",
       "  </tbody>\n",
       "</table>\n",
       "</div>"
      ],
      "text/plain": [
       "   YearsExperience  Salary\n",
       "0              1.1   39343\n",
       "1              1.3   46205\n",
       "2              1.5   37731\n",
       "3              2.0   43525\n",
       "4              2.2   39891"
      ]
     },
     "execution_count": 2,
     "metadata": {},
     "output_type": "execute_result"
    }
   ],
   "source": [
    "df = pd.read_csv('Salary_Data.csv')\n",
    "df.head()"
   ]
  },
  {
   "cell_type": "code",
   "execution_count": 3,
   "id": "a5f89cab",
   "metadata": {},
   "outputs": [
    {
     "name": "stdout",
     "output_type": "stream",
     "text": [
      "Index(['YearsExperience', 'Salary'], dtype='object')\n"
     ]
    }
   ],
   "source": [
    "print(df.columns)"
   ]
  },
  {
   "cell_type": "code",
   "execution_count": 4,
   "id": "2f672198",
   "metadata": {},
   "outputs": [
    {
     "name": "stdout",
     "output_type": "stream",
     "text": [
      "       YearsExperience         Salary\n",
      "count        33.000000      33.000000\n",
      "mean          5.921212   82760.303030\n",
      "std           3.342413   34014.620992\n",
      "min           1.100000   37731.000000\n",
      "25%           3.200000   56957.000000\n",
      "50%           5.100000   67938.000000\n",
      "75%           8.700000  109431.000000\n",
      "max          13.000000  156000.000000\n"
     ]
    }
   ],
   "source": [
    "print(df.describe())"
   ]
  },
  {
   "cell_type": "markdown",
   "id": "80ce6104",
   "metadata": {},
   "source": [
    "### check the relation between variables"
   ]
  },
  {
   "cell_type": "code",
   "execution_count": 5,
   "id": "09a0fa44",
   "metadata": {},
   "outputs": [
    {
     "name": "stdout",
     "output_type": "stream",
     "text": [
      "0.9836422753186337\n"
     ]
    }
   ],
   "source": [
    "corr = np.corrcoef(df['YearsExperience'], df['Salary'])\n",
    "print(corr[0,1])"
   ]
  },
  {
   "cell_type": "markdown",
   "id": "1c7b7092",
   "metadata": {},
   "source": [
    "### EDA"
   ]
  },
  {
   "cell_type": "code",
   "execution_count": 6,
   "id": "88799273",
   "metadata": {},
   "outputs": [
    {
     "data": {
      "text/plain": [
       "Text(0.5, 1.0, 'Exp vs Salary')"
      ]
     },
     "execution_count": 6,
     "metadata": {},
     "output_type": "execute_result"
    },
    {
     "data": {
      "image/png": "[encoded data removed]",
      "text/plain": [
       "<Figure size 432x288 with 1 Axes>"
      ]
     },
     "metadata": {
      "needs_background": "light"
     },
     "output_type": "display_data"
    }
   ],
   "source": [
    "plt.scatter(df['YearsExperience'], df['Salary'])\n",
    "plt.xlabel('YearsExperience')\n",
    "plt.ylabel('Salary')\n",
    "plt.title('Exp vs Salary')\n"
   ]
  },
  {
   "cell_type": "code",
   "execution_count": 7,
   "id": "92775e77",
   "metadata": {},
   "outputs": [
    {
     "data": {
      "text/plain": [
       "<seaborn.axisgrid.PairGrid at 0x1f1c0ba14c0>"
      ]
     },
     "execution_count": 7,
     "metadata": {},
     "output_type": "execute_result"
    },
    {
     "data": {
      "image/png": "[encoded data removed]",
      "text/plain": [
       "<Figure size 360x360 with 6 Axes>"
      ]
     },
     "metadata": {
      "needs_background": "light"
     },
     "output_type": "display_data"
    }
   ],
   "source": [
    "sns.pairplot(df)"
   ]
  },
  {
   "cell_type": "markdown",
   "id": "68175bce",
   "metadata": {},
   "source": [
    "### select input and op variable"
   ]
  },
  {
   "cell_type": "code",
   "execution_count": 8,
   "id": "b433764f",
   "metadata": {},
   "outputs": [],
   "source": [
    "x = df.drop('Salary', axis=1)\n",
    "y = df['Salary']\n"
   ]
  },
  {
   "cell_type": "markdown",
   "id": "543ed7c9",
   "metadata": {},
   "source": [
    "### data clensing operation"
   ]
  },
  {
   "cell_type": "code",
   "execution_count": 9,
   "id": "188e23a5",
   "metadata": {},
   "outputs": [
    {
     "name": "stdout",
     "output_type": "stream",
     "text": [
      "<class 'pandas.core.frame.DataFrame'>\n",
      "RangeIndex: 33 entries, 0 to 32\n",
      "Data columns (total 2 columns):\n",
      " #   Column           Non-Null Count  Dtype  \n",
      "---  ------           --------------  -----  \n",
      " 0   YearsExperience  33 non-null     float64\n",
      " 1   Salary           33 non-null     int64  \n",
      "dtypes: float64(1), int64(1)\n",
      "memory usage: 656.0 bytes\n",
      "None\n"
     ]
    }
   ],
   "source": [
    "## chec for data types\n",
    "print(df.info())"
   ]
  },
  {
   "cell_type": "code",
   "execution_count": 10,
   "id": "aeb694cb",
   "metadata": {},
   "outputs": [
    {
     "name": "stdout",
     "output_type": "stream",
     "text": [
      "YearsExperience    0\n",
      "Salary             0\n",
      "dtype: int64\n"
     ]
    }
   ],
   "source": [
    "## check for missing values\n",
    "print(df.isna().sum())"
   ]
  },
  {
   "cell_type": "markdown",
   "id": "837f4cf7",
   "metadata": {},
   "source": [
    "### split the data\n"
   ]
  },
  {
   "cell_type": "code",
   "execution_count": 11,
   "id": "3afa37bf",
   "metadata": {},
   "outputs": [],
   "source": [
    "from sklearn.model_selection import train_test_split\n",
    "x_train, x_test, y_train, y_test = train_test_split(x, y, random_state= 12345, train_size= 0.8)"
   ]
  },
  {
   "cell_type": "markdown",
   "id": "9e2cc02c",
   "metadata": {},
   "source": [
    "### creating a model"
   ]
  },
  {
   "cell_type": "code",
   "execution_count": 12,
   "id": "97c80a66",
   "metadata": {},
   "outputs": [],
   "source": [
    "from sklearn.linear_model import LinearRegression\n",
    "model = LinearRegression()"
   ]
  },
  {
   "cell_type": "code",
   "execution_count": 13,
   "id": "65aca2c4",
   "metadata": {},
   "outputs": [
    {
     "data": {
      "text/plain": [
       "LinearRegression()"
      ]
     },
     "execution_count": 13,
     "metadata": {},
     "output_type": "execute_result"
    }
   ],
   "source": [
    "## fir the data\n",
    "model.fit(x_train, y_train)"
   ]
  },
  {
   "cell_type": "markdown",
   "id": "92d0880b",
   "metadata": {},
   "source": [
    "### evaluate the model"
   ]
  },
  {
   "cell_type": "code",
   "execution_count": 14,
   "id": "9d240a1f",
   "metadata": {},
   "outputs": [
    {
     "name": "stdout",
     "output_type": "stream",
     "text": [
      "0.9616652695775537\n"
     ]
    }
   ],
   "source": [
    "score = model.score(x_train, y_train)\n",
    "print(score)"
   ]
  },
  {
   "cell_type": "markdown",
   "id": "f3ed343c",
   "metadata": {},
   "source": [
    "### parameters to fine tune model"
   ]
  },
  {
   "cell_type": "code",
   "execution_count": 15,
   "id": "5e204523",
   "metadata": {},
   "outputs": [
    {
     "name": "stdout",
     "output_type": "stream",
     "text": [
      "{'copy_X': True, 'fit_intercept': True, 'n_jobs': None, 'normalize': False, 'positive': False}\n"
     ]
    }
   ],
   "source": [
    "print(model.get_params())"
   ]
  },
  {
   "cell_type": "markdown",
   "id": "1db73a60",
   "metadata": {},
   "source": [
    "### predict the values for unseen data"
   ]
  },
  {
   "cell_type": "code",
   "execution_count": 16,
   "id": "4d41ec07",
   "metadata": {},
   "outputs": [
    {
     "name": "stdout",
     "output_type": "stream",
     "text": [
      "[110063.60259318 105083.05929823  34359.3445099  132974.10174997\n",
      "  43324.32244081  72211.47355154 126001.34113703]\n"
     ]
    }
   ],
   "source": [
    "y_prediction = model.predict(x_test)\n",
    "print(y_prediction)"
   ]
  },
  {
   "cell_type": "markdown",
   "id": "28c808e8",
   "metadata": {},
   "source": [
    "### predict the values"
   ]
  },
  {
   "cell_type": "code",
   "execution_count": 17,
   "id": "9451b23c",
   "metadata": {},
   "outputs": [
    {
     "name": "stdout",
     "output_type": "stream",
     "text": [
      "162857.3615196879\n"
     ]
    }
   ],
   "source": [
    "sal = model.predict([[14]]) ## salary of person havinf 14 yr experience\n",
    "print(sal[0])"
   ]
  },
  {
   "cell_type": "markdown",
   "id": "bed91928",
   "metadata": {},
   "source": [
    "### evaluation of loss functions"
   ]
  },
  {
   "cell_type": "code",
   "execution_count": 18,
   "id": "a92b649d",
   "metadata": {},
   "outputs": [
    {
     "name": "stdout",
     "output_type": "stream",
     "text": [
      "4207.941326121617\n",
      "26018867.269139413\n",
      "5100.869266030978\n",
      "0.9812246907643513\n",
      "0.9774696289172216\n"
     ]
    }
   ],
   "source": [
    "from sklearn.metrics import mean_absolute_error, mean_squared_error, r2_score\n",
    "\n",
    "MAE = mean_absolute_error(y_test,y_prediction)\n",
    "MSE = mean_squared_error(y_test, y_prediction)\n",
    "RMSE = np.sqrt(MSE)\n",
    "R2 = r2_score(y_test, y_prediction)\n",
    "n = len(y_test)\n",
    "k = 1\n",
    "adjusted_R2 = 1 - ((1 - R2) * ((n -1)/(n - (k + 1))))\n",
    "\n",
    "print(MAE)\n",
    "print(MSE)\n",
    "print(RMSE)\n",
    "print(R2)\n",
    "print(adjusted_R2)\n"
   ]
  },
  {
   "cell_type": "markdown",
   "id": "59a1a9e7",
   "metadata": {},
   "source": [
    "### visualization of the model"
   ]
  },
  {
   "cell_type": "code",
   "execution_count": 19,
   "id": "5e6f5a0f",
   "metadata": {},
   "outputs": [
    {
     "data": {
      "text/plain": [
       "<matplotlib.legend.Legend at 0x1f1c255dca0>"
      ]
     },
     "execution_count": 19,
     "metadata": {},
     "output_type": "execute_result"
    },
    {
     "data": {
      "image/png": "[encoded data removed]",
      "text/plain": [
       "<Figure size 432x288 with 1 Axes>"
      ]
     },
     "metadata": {
      "needs_background": "light"
     },
     "output_type": "display_data"
    }
   ],
   "source": [
    "%matplotlib inline\n",
    "plt.scatter(x_test, y_test)\n",
    "plt.style.use('seaborn')\n",
    "plt.scatter(x_test, y_prediction, c = 'red')\n",
    "plt.plot(x_test, y_prediction, label = 'regression line', c= 'red')\n",
    "y_mean = np.ones(len(y_test)) * y.mean()\n",
    "plt.scatter(x_test, y_mean, c= 'green',)\n",
    "plt.plot(x_test, y_mean, c = 'green', label = 'mean line')\n",
    "plt.xlabel('Experience')\n",
    "plt.ylabel('Salary')\n",
    "plt.legend()"
   ]
  },
  {
   "cell_type": "code",
   "execution_count": null,
   "id": "e61469ed",
   "metadata": {},
   "outputs": [],
   "source": []
  }
 ],
 "metadata": {
  "kernelspec": {
   "display_name": "Python 3",
   "language": "python",
   "name": "python3"
  },
  "language_info": {
   "codemirror_mode": {
    "name": "ipython",
    "version": 3
   },
   "file_extension": ".py",
   "mimetype": "text/x-python",
   "name": "python",
   "nbconvert_exporter": "python",
   "pygments_lexer": "ipython3",
   "version": "3.9.5"
  }
 },
 "nbformat": 4,
 "nbformat_minor": 5
}
