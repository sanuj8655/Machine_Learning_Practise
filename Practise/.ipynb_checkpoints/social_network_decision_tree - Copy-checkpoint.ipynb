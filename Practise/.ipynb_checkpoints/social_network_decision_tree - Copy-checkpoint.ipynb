{
 "cells": [
  {
   "cell_type": "code",
   "execution_count": 1,
   "id": "347378b7",
   "metadata": {},
   "outputs": [],
   "source": [
    "import numpy as np\n",
    "import pandas as pd\n",
    "import matplotlib.pyplot as plt\n",
    "import seaborn as sns"
   ]
  },
  {
   "cell_type": "code",
   "execution_count": 2,
   "id": "9d63dcae",
   "metadata": {},
   "outputs": [
    {
     "name": "stdout",
     "output_type": "stream",
     "text": [
      "    User ID  Gender  Age  EstimatedSalary  Purchased\n",
      "0  15624510    Male   19            19000          0\n",
      "1  15810944    Male   35            20000          0\n",
      "2  15668575  Female   26            43000          0\n",
      "3  15603246  Female   27            57000          0\n",
      "4  15804002    Male   19            76000          0\n"
     ]
    }
   ],
   "source": [
    "df = pd.read_csv('Social_network_ads.csv')\n",
    "print(df.head())"
   ]
  },
  {
   "cell_type": "code",
   "execution_count": 3,
   "id": "0234720a",
   "metadata": {},
   "outputs": [],
   "source": [
    "## decide x and y\n",
    "\n",
    "x = df.drop(['Purchased', 'User ID', 'Gender'], axis = 1)\n",
    "y = df['Purchased']"
   ]
  },
  {
   "cell_type": "code",
   "execution_count": 4,
   "id": "f8e411f3",
   "metadata": {},
   "outputs": [],
   "source": [
    "##split data train and test\n",
    "from sklearn.model_selection import train_test_split\n",
    "x_train, x_test, y_train, y_test = train_test_split(x, y, train_size= 0.8, random_state= 123456)\n"
   ]
  },
  {
   "cell_type": "code",
   "execution_count": 5,
   "id": "d4a312cb",
   "metadata": {},
   "outputs": [],
   "source": [
    "from sklearn.tree import DecisionTreeClassifier"
   ]
  },
  {
   "cell_type": "code",
   "execution_count": 6,
   "id": "6eb6a6e1",
   "metadata": {},
   "outputs": [],
   "source": [
    "model = DecisionTreeClassifier(criterion='entropy')"
   ]
  },
  {
   "cell_type": "code",
   "execution_count": 7,
   "id": "cc2f4c35",
   "metadata": {},
   "outputs": [
    {
     "data": {
      "text/plain": [
       "DecisionTreeClassifier(criterion='entropy')"
      ]
     },
     "execution_count": 7,
     "metadata": {},
     "output_type": "execute_result"
    }
   ],
   "source": [
    "model.fit(x_train, y_train)"
   ]
  },
  {
   "cell_type": "code",
   "execution_count": 8,
   "id": "21bdaf0b",
   "metadata": {},
   "outputs": [
    {
     "data": {
      "text/plain": [
       "[Text(145.33777173913043, 208.38, 'X[0] <= 44.5\\nentropy = 0.952\\nsamples = 320\\nvalue = [201, 119]'),\n",
       " Text(72.78260869565217, 190.26, 'X[1] <= 89500.0\\nentropy = 0.648\\nsamples = 223\\nvalue = [186, 37]'),\n",
       " Text(36.391304347826086, 172.14, 'X[0] <= 36.5\\nentropy = 0.208\\nsamples = 183\\nvalue = [177, 6]'),\n",
       " Text(29.11304347826087, 154.01999999999998, 'entropy = 0.0\\nsamples = 124\\nvalue = [124, 0]'),\n",
       " Text(43.66956521739131, 154.01999999999998, 'X[1] <= 67500.0\\nentropy = 0.474\\nsamples = 59\\nvalue = [53, 6]'),\n",
       " Text(36.391304347826086, 135.89999999999998, 'entropy = 0.0\\nsamples = 32\\nvalue = [32, 0]'),\n",
       " Text(50.947826086956525, 135.89999999999998, 'X[1] <= 70500.0\\nentropy = 0.764\\nsamples = 27\\nvalue = [21, 6]'),\n",
       " Text(43.66956521739131, 117.77999999999999, 'entropy = 0.0\\nsamples = 1\\nvalue = [0, 1]'),\n",
       " Text(58.22608695652174, 117.77999999999999, 'X[1] <= 83500.0\\nentropy = 0.706\\nsamples = 26\\nvalue = [21, 5]'),\n",
       " Text(50.947826086956525, 99.66, 'X[1] <= 79500.0\\nentropy = 0.634\\nsamples = 25\\nvalue = [21, 4]'),\n",
       " Text(43.66956521739131, 81.53999999999999, 'X[1] <= 77500.0\\nentropy = 0.702\\nsamples = 21\\nvalue = [17, 4]'),\n",
       " Text(29.11304347826087, 63.41999999999999, 'X[0] <= 41.5\\nentropy = 0.523\\nsamples = 17\\nvalue = [15, 2]'),\n",
       " Text(21.834782608695654, 45.29999999999998, 'X[1] <= 71500.0\\nentropy = 0.337\\nsamples = 16\\nvalue = [15, 1]'),\n",
       " Text(14.556521739130435, 27.17999999999998, 'X[0] <= 39.5\\nentropy = 0.811\\nsamples = 4\\nvalue = [3, 1]'),\n",
       " Text(7.278260869565218, 9.059999999999974, 'entropy = 0.0\\nsamples = 3\\nvalue = [3, 0]'),\n",
       " Text(21.834782608695654, 9.059999999999974, 'entropy = 0.0\\nsamples = 1\\nvalue = [0, 1]'),\n",
       " Text(29.11304347826087, 27.17999999999998, 'entropy = 0.0\\nsamples = 12\\nvalue = [12, 0]'),\n",
       " Text(36.391304347826086, 45.29999999999998, 'entropy = 0.0\\nsamples = 1\\nvalue = [0, 1]'),\n",
       " Text(58.22608695652174, 63.41999999999999, 'X[0] <= 39.0\\nentropy = 1.0\\nsamples = 4\\nvalue = [2, 2]'),\n",
       " Text(50.947826086956525, 45.29999999999998, 'entropy = 0.0\\nsamples = 2\\nvalue = [0, 2]'),\n",
       " Text(65.50434782608696, 45.29999999999998, 'entropy = 0.0\\nsamples = 2\\nvalue = [2, 0]'),\n",
       " Text(58.22608695652174, 81.53999999999999, 'entropy = 0.0\\nsamples = 4\\nvalue = [4, 0]'),\n",
       " Text(65.50434782608696, 99.66, 'entropy = 0.0\\nsamples = 1\\nvalue = [0, 1]'),\n",
       " Text(109.17391304347827, 172.14, 'X[1] <= 133500.0\\nentropy = 0.769\\nsamples = 40\\nvalue = [9, 31]'),\n",
       " Text(101.89565217391305, 154.01999999999998, 'X[0] <= 35.5\\nentropy = 0.918\\nsamples = 27\\nvalue = [9, 18]'),\n",
       " Text(80.06086956521739, 135.89999999999998, 'X[1] <= 93000.0\\nentropy = 1.0\\nsamples = 14\\nvalue = [7, 7]'),\n",
       " Text(72.78260869565217, 117.77999999999999, 'entropy = 0.0\\nsamples = 2\\nvalue = [2, 0]'),\n",
       " Text(87.33913043478262, 117.77999999999999, 'X[1] <= 104000.0\\nentropy = 0.98\\nsamples = 12\\nvalue = [5, 7]'),\n",
       " Text(80.06086956521739, 99.66, 'entropy = 0.0\\nsamples = 3\\nvalue = [0, 3]'),\n",
       " Text(94.61739130434783, 99.66, 'X[1] <= 118500.0\\nentropy = 0.991\\nsamples = 9\\nvalue = [5, 4]'),\n",
       " Text(87.33913043478262, 81.53999999999999, 'X[1] <= 110000.0\\nentropy = 0.863\\nsamples = 7\\nvalue = [5, 2]'),\n",
       " Text(80.06086956521739, 63.41999999999999, 'entropy = 0.0\\nsamples = 1\\nvalue = [1, 0]'),\n",
       " Text(94.61739130434783, 63.41999999999999, 'X[1] <= 112500.0\\nentropy = 0.918\\nsamples = 6\\nvalue = [4, 2]'),\n",
       " Text(87.33913043478262, 45.29999999999998, 'entropy = 0.0\\nsamples = 1\\nvalue = [0, 1]'),\n",
       " Text(101.89565217391305, 45.29999999999998, 'X[1] <= 116500.0\\nentropy = 0.722\\nsamples = 5\\nvalue = [4, 1]'),\n",
       " Text(94.61739130434783, 27.17999999999998, 'entropy = 0.0\\nsamples = 3\\nvalue = [3, 0]'),\n",
       " Text(109.17391304347827, 27.17999999999998, 'entropy = 1.0\\nsamples = 2\\nvalue = [1, 1]'),\n",
       " Text(101.89565217391305, 81.53999999999999, 'entropy = 0.0\\nsamples = 2\\nvalue = [0, 2]'),\n",
       " Text(123.7304347826087, 135.89999999999998, 'X[1] <= 129500.0\\nentropy = 0.619\\nsamples = 13\\nvalue = [2, 11]'),\n",
       " Text(116.45217391304348, 117.77999999999999, 'X[0] <= 37.5\\nentropy = 0.414\\nsamples = 12\\nvalue = [1, 11]'),\n",
       " Text(109.17391304347827, 99.66, 'entropy = 0.0\\nsamples = 5\\nvalue = [0, 5]'),\n",
       " Text(123.7304347826087, 99.66, 'X[0] <= 38.5\\nentropy = 0.592\\nsamples = 7\\nvalue = [1, 6]'),\n",
       " Text(116.45217391304348, 81.53999999999999, 'X[1] <= 112500.0\\nentropy = 1.0\\nsamples = 2\\nvalue = [1, 1]'),\n",
       " Text(109.17391304347827, 63.41999999999999, 'entropy = 0.0\\nsamples = 1\\nvalue = [1, 0]'),\n",
       " Text(123.7304347826087, 63.41999999999999, 'entropy = 0.0\\nsamples = 1\\nvalue = [0, 1]'),\n",
       " Text(131.0086956521739, 81.53999999999999, 'entropy = 0.0\\nsamples = 5\\nvalue = [0, 5]'),\n",
       " Text(131.0086956521739, 117.77999999999999, 'entropy = 0.0\\nsamples = 1\\nvalue = [1, 0]'),\n",
       " Text(116.45217391304348, 154.01999999999998, 'entropy = 0.0\\nsamples = 13\\nvalue = [0, 13]'),\n",
       " Text(217.8929347826087, 190.26, 'X[1] <= 41500.0\\nentropy = 0.621\\nsamples = 97\\nvalue = [15, 82]'),\n",
       " Text(167.4, 172.14, 'X[1] <= 22500.0\\nentropy = 0.196\\nsamples = 33\\nvalue = [1, 32]'),\n",
       " Text(160.12173913043478, 154.01999999999998, 'X[0] <= 46.5\\nentropy = 0.65\\nsamples = 6\\nvalue = [1, 5]'),\n",
       " Text(152.84347826086957, 135.89999999999998, 'X[0] <= 45.5\\nentropy = 0.918\\nsamples = 3\\nvalue = [1, 2]'),\n",
       " Text(145.56521739130434, 117.77999999999999, 'entropy = 0.0\\nsamples = 2\\nvalue = [0, 2]'),\n",
       " Text(160.12173913043478, 117.77999999999999, 'entropy = 0.0\\nsamples = 1\\nvalue = [1, 0]'),\n",
       " Text(167.4, 135.89999999999998, 'entropy = 0.0\\nsamples = 3\\nvalue = [0, 3]'),\n",
       " Text(174.67826086956524, 154.01999999999998, 'entropy = 0.0\\nsamples = 27\\nvalue = [0, 27]'),\n",
       " Text(268.3858695652174, 172.14, 'X[0] <= 52.5\\nentropy = 0.758\\nsamples = 64\\nvalue = [14, 50]'),\n",
       " Text(223.80652173913043, 154.01999999999998, 'X[1] <= 82500.0\\nentropy = 0.909\\nsamples = 37\\nvalue = [12, 25]'),\n",
       " Text(181.95652173913044, 135.89999999999998, 'X[0] <= 48.5\\nentropy = 0.985\\nsamples = 14\\nvalue = [8, 6]'),\n",
       " Text(174.67826086956524, 117.77999999999999, 'X[1] <= 44000.0\\nentropy = 0.994\\nsamples = 11\\nvalue = [5, 6]'),\n",
       " Text(167.4, 99.66, 'entropy = 0.0\\nsamples = 1\\nvalue = [1, 0]'),\n",
       " Text(181.95652173913044, 99.66, 'X[0] <= 46.5\\nentropy = 0.971\\nsamples = 10\\nvalue = [4, 6]'),\n",
       " Text(167.4, 81.53999999999999, 'X[1] <= 52000.0\\nentropy = 0.971\\nsamples = 5\\nvalue = [3, 2]'),\n",
       " Text(160.12173913043478, 63.41999999999999, 'entropy = 0.0\\nsamples = 1\\nvalue = [0, 1]'),\n",
       " Text(174.67826086956524, 63.41999999999999, 'X[1] <= 76500.0\\nentropy = 0.811\\nsamples = 4\\nvalue = [3, 1]'),\n",
       " Text(167.4, 45.29999999999998, 'entropy = 0.0\\nsamples = 2\\nvalue = [2, 0]'),\n",
       " Text(181.95652173913044, 45.29999999999998, 'X[0] <= 45.5\\nentropy = 1.0\\nsamples = 2\\nvalue = [1, 1]'),\n",
       " Text(174.67826086956524, 27.17999999999998, 'entropy = 0.0\\nsamples = 1\\nvalue = [1, 0]'),\n",
       " Text(189.23478260869567, 27.17999999999998, 'entropy = 0.0\\nsamples = 1\\nvalue = [0, 1]'),\n",
       " Text(196.51304347826087, 81.53999999999999, 'X[1] <= 48000.0\\nentropy = 0.722\\nsamples = 5\\nvalue = [1, 4]'),\n",
       " Text(189.23478260869567, 63.41999999999999, 'entropy = 0.0\\nsamples = 1\\nvalue = [1, 0]'),\n",
       " Text(203.7913043478261, 63.41999999999999, 'entropy = 0.0\\nsamples = 4\\nvalue = [0, 4]'),\n",
       " Text(189.23478260869567, 117.77999999999999, 'entropy = 0.0\\nsamples = 3\\nvalue = [3, 0]'),\n",
       " Text(265.6565217391304, 135.89999999999998, 'X[0] <= 50.5\\nentropy = 0.667\\nsamples = 23\\nvalue = [4, 19]'),\n",
       " Text(247.4608695652174, 117.77999999999999, 'X[1] <= 139500.0\\nentropy = 0.485\\nsamples = 19\\nvalue = [2, 17]'),\n",
       " Text(232.90434782608696, 99.66, 'X[0] <= 46.5\\nentropy = 0.337\\nsamples = 16\\nvalue = [1, 15]'),\n",
       " Text(225.62608695652173, 81.53999999999999, 'X[1] <= 106500.0\\nentropy = 0.811\\nsamples = 4\\nvalue = [1, 3]'),\n",
       " Text(218.34782608695653, 63.41999999999999, 'X[1] <= 92000.0\\nentropy = 1.0\\nsamples = 2\\nvalue = [1, 1]'),\n",
       " Text(211.0695652173913, 45.29999999999998, 'entropy = 0.0\\nsamples = 1\\nvalue = [0, 1]'),\n",
       " Text(225.62608695652173, 45.29999999999998, 'entropy = 0.0\\nsamples = 1\\nvalue = [1, 0]'),\n",
       " Text(232.90434782608696, 63.41999999999999, 'entropy = 0.0\\nsamples = 2\\nvalue = [0, 2]'),\n",
       " Text(240.1826086956522, 81.53999999999999, 'entropy = 0.0\\nsamples = 12\\nvalue = [0, 12]'),\n",
       " Text(262.0173913043478, 99.66, 'X[0] <= 47.5\\nentropy = 0.918\\nsamples = 3\\nvalue = [1, 2]'),\n",
       " Text(254.73913043478262, 81.53999999999999, 'entropy = 0.0\\nsamples = 1\\nvalue = [0, 1]'),\n",
       " Text(269.295652173913, 81.53999999999999, 'X[0] <= 48.5\\nentropy = 1.0\\nsamples = 2\\nvalue = [1, 1]'),\n",
       " Text(262.0173913043478, 63.41999999999999, 'entropy = 0.0\\nsamples = 1\\nvalue = [1, 0]'),\n",
       " Text(276.5739130434783, 63.41999999999999, 'entropy = 0.0\\nsamples = 1\\nvalue = [0, 1]'),\n",
       " Text(283.8521739130435, 117.77999999999999, 'X[1] <= 136000.0\\nentropy = 1.0\\nsamples = 4\\nvalue = [2, 2]'),\n",
       " Text(276.5739130434783, 99.66, 'entropy = 0.0\\nsamples = 2\\nvalue = [2, 0]'),\n",
       " Text(291.1304347826087, 99.66, 'entropy = 0.0\\nsamples = 2\\nvalue = [0, 2]'),\n",
       " Text(312.96521739130435, 154.01999999999998, 'X[0] <= 58.5\\nentropy = 0.381\\nsamples = 27\\nvalue = [2, 25]'),\n",
       " Text(305.68695652173915, 135.89999999999998, 'entropy = 0.0\\nsamples = 16\\nvalue = [0, 16]'),\n",
       " Text(320.24347826086955, 135.89999999999998, 'X[0] <= 59.5\\nentropy = 0.684\\nsamples = 11\\nvalue = [2, 9]'),\n",
       " Text(312.96521739130435, 117.77999999999999, 'X[1] <= 85500.0\\nentropy = 0.971\\nsamples = 5\\nvalue = [2, 3]'),\n",
       " Text(305.68695652173915, 99.66, 'X[1] <= 59000.0\\nentropy = 0.918\\nsamples = 3\\nvalue = [2, 1]'),\n",
       " Text(298.40869565217395, 81.53999999999999, 'entropy = 0.0\\nsamples = 1\\nvalue = [1, 0]'),\n",
       " Text(312.96521739130435, 81.53999999999999, 'X[1] <= 79500.0\\nentropy = 1.0\\nsamples = 2\\nvalue = [1, 1]'),\n",
       " Text(305.68695652173915, 63.41999999999999, 'entropy = 0.0\\nsamples = 1\\nvalue = [0, 1]'),\n",
       " Text(320.24347826086955, 63.41999999999999, 'entropy = 0.0\\nsamples = 1\\nvalue = [1, 0]'),\n",
       " Text(320.24347826086955, 99.66, 'entropy = 0.0\\nsamples = 2\\nvalue = [0, 2]'),\n",
       " Text(327.5217391304348, 117.77999999999999, 'entropy = 0.0\\nsamples = 6\\nvalue = [0, 6]')]"
      ]
     },
     "execution_count": 8,
     "metadata": {},
     "output_type": "execute_result"
    },
    {
     "data": {
      "image/png": "[encoded data removed]",
      "text/plain": [
       "<Figure size 432x288 with 1 Axes>"
      ]
     },
     "metadata": {
      "needs_background": "light"
     },
     "output_type": "display_data"
    }
   ],
   "source": [
    "from sklearn.tree import plot_tree\n",
    "plot_tree(model)"
   ]
  },
  {
   "cell_type": "code",
   "execution_count": 11,
   "id": "4963f040",
   "metadata": {},
   "outputs": [],
   "source": [
    "import graphviz \n",
    "\n",
    "\n"
   ]
  },
  {
   "cell_type": "code",
   "execution_count": 12,
   "id": "1872e594",
   "metadata": {},
   "outputs": [],
   "source": [
    "from sklearn import tree\n",
    "file = open(\"tree.png\", \"w\")\n",
    "dot_data = tree.export_graphviz(model, out_file=None, \n",
    "                     feature_names=x_test.columns, \n",
    "                     filled=True, rounded=True,  \n",
    "                     special_characters=True)  \n"
   ]
  },
  {
   "cell_type": "code",
   "execution_count": 13,
   "id": "aa725d4b",
   "metadata": {},
   "outputs": [],
   "source": [
    "graph = graphviz.Source(dot_data)  \n",
    "graph.format = 'png'\n",
    "graph.render('dtree_render',view=True)\n",
    "# graph\n",
    "file.close()"
   ]
  },
  {
   "cell_type": "code",
   "execution_count": 12,
   "id": "d0f58941",
   "metadata": {},
   "outputs": [
    {
     "name": "stdout",
     "output_type": "stream",
     "text": [
      "[0 0 0 0 0 0 0 1 0 1 0 0 1 0 0 0 0 0 0 0 1 0 1 1 0 0 0 0 0 0 0 0 0 0 0 0 0\n",
      " 1 0 1 0 0 1 0 0 0 0 0 0 0 0 1 1 0 1 0 0 1 0 0 0 1 0 1 1 0 1 0 1 0 0 1 1 0\n",
      " 0 1 1 0 0 1]\n"
     ]
    }
   ],
   "source": [
    "## evaluation\n",
    "y_prediction = model.predict(x_test)\n",
    "print(y_prediction)"
   ]
  },
  {
   "cell_type": "code",
   "execution_count": 13,
   "id": "00ae1e5c",
   "metadata": {},
   "outputs": [
    {
     "name": "stdout",
     "output_type": "stream",
     "text": [
      "[[51  5]\n",
      " [ 6 18]]\n"
     ]
    }
   ],
   "source": [
    "## confusion matrics\n",
    "from sklearn.metrics import confusion_matrix\n",
    "cm = confusion_matrix(y_test, y_prediction)\n",
    "print(cm)"
   ]
  },
  {
   "cell_type": "code",
   "execution_count": 14,
   "id": "721334b5",
   "metadata": {},
   "outputs": [
    {
     "name": "stdout",
     "output_type": "stream",
     "text": [
      "0.8625\n"
     ]
    }
   ],
   "source": [
    "## accuracy\n",
    "from sklearn.metrics import accuracy_score\n",
    "accuracy = accuracy_score(y_test, y_prediction)\n",
    "print(accuracy)"
   ]
  },
  {
   "cell_type": "code",
   "execution_count": 15,
   "id": "9d95622e",
   "metadata": {},
   "outputs": [
    {
     "name": "stdout",
     "output_type": "stream",
     "text": [
      "              precision    recall  f1-score   support\n",
      "\n",
      "           0       0.89      0.91      0.90        56\n",
      "           1       0.78      0.75      0.77        24\n",
      "\n",
      "    accuracy                           0.86        80\n",
      "   macro avg       0.84      0.83      0.83        80\n",
      "weighted avg       0.86      0.86      0.86        80\n",
      "\n"
     ]
    }
   ],
   "source": [
    "# classification report\n",
    "from sklearn.metrics import classification_report\n",
    "print(classification_report(y_test, y_prediction))"
   ]
  },
  {
   "cell_type": "code",
   "execution_count": 16,
   "id": "0a461fde",
   "metadata": {},
   "outputs": [
    {
     "name": "stdout",
     "output_type": "stream",
     "text": [
      "0.8303571428571429\n"
     ]
    },
    {
     "data": {
      "text/plain": [
       "[<matplotlib.lines.Line2D at 0x1ba7e930160>]"
      ]
     },
     "execution_count": 16,
     "metadata": {},
     "output_type": "execute_result"
    },
    {
     "data": {
      "image/png": "[encoded data removed]",
      "text/plain": [
       "<Figure size 432x288 with 1 Axes>"
      ]
     },
     "metadata": {
      "needs_background": "light"
     },
     "output_type": "display_data"
    },
    {
     "data": {
      "image/png": "[encoded data removed]",
      "text/plain": [
       "<Figure size 432x288 with 1 Axes>"
      ]
     },
     "metadata": {
      "needs_background": "light"
     },
     "output_type": "display_data"
    }
   ],
   "source": [
    "#roc and auc\n",
    "from sklearn.metrics import roc_auc_score\n",
    "print(roc_auc_score(y_test, y_prediction))\n",
    "\n",
    "from sklearn.metrics import plot_roc_curve\n",
    "plot_roc_curve(model, x_test, y_prediction)\n",
    "\n",
    "\n",
    "# AuC \n",
    "from sklearn.metrics import plot_roc_curve\n",
    "\n",
    "plot_roc_curve(model, x_test, y_test)\n",
    "plt.plot([0, 1], [0, 1], linestyle=\"--\")"
   ]
  },
  {
   "cell_type": "code",
   "execution_count": null,
   "id": "af59466a",
   "metadata": {},
   "outputs": [],
   "source": []
  }
 ],
 "metadata": {
  "kernelspec": {
   "display_name": "Python 3",
   "language": "python",
   "name": "python3"
  },
  "language_info": {
   "codemirror_mode": {
    "name": "ipython",
    "version": 3
   },
   "file_extension": ".py",
   "mimetype": "text/x-python",
   "name": "python",
   "nbconvert_exporter": "python",
   "pygments_lexer": "ipython3",
   "version": "3.9.5"
  }
 },
 "nbformat": 4,
 "nbformat_minor": 5
}
