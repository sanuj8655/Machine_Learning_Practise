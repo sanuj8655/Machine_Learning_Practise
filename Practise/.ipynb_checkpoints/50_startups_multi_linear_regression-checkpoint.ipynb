{
 "cells": [
  {
   "cell_type": "markdown",
   "id": "06800f3c",
   "metadata": {},
   "source": [
    "## Multiple Linear Regression"
   ]
  },
  {
   "cell_type": "markdown",
   "id": "53c63466",
   "metadata": {},
   "source": [
    "### import required package"
   ]
  },
  {
   "cell_type": "code",
   "execution_count": 2,
   "id": "dbc58938",
   "metadata": {},
   "outputs": [],
   "source": [
    "import numpy as np\n",
    "import pandas as pd\n",
    "import seaborn as sns\n",
    "import matplotlib.pyplot as plt\n"
   ]
  },
  {
   "cell_type": "markdown",
   "id": "3ffa5b6c",
   "metadata": {},
   "source": [
    "### read data from source and describing"
   ]
  },
  {
   "cell_type": "code",
   "execution_count": 4,
   "id": "b52f0af3",
   "metadata": {},
   "outputs": [
    {
     "data": {
      "text/html": [
       "<div>\n",
       "<style scoped>\n",
       "    .dataframe tbody tr th:only-of-type {\n",
       "        vertical-align: middle;\n",
       "    }\n",
       "\n",
       "    .dataframe tbody tr th {\n",
       "        vertical-align: top;\n",
       "    }\n",
       "\n",
       "    .dataframe thead th {\n",
       "        text-align: right;\n",
       "    }\n",
       "</style>\n",
       "<table border=\"1\" class=\"dataframe\">\n",
       "  <thead>\n",
       "    <tr style=\"text-align: right;\">\n",
       "      <th></th>\n",
       "      <th>RnD</th>\n",
       "      <th>Administration</th>\n",
       "      <th>Marketing</th>\n",
       "      <th>State</th>\n",
       "      <th>Profit</th>\n",
       "    </tr>\n",
       "  </thead>\n",
       "  <tbody>\n",
       "    <tr>\n",
       "      <th>0</th>\n",
       "      <td>165349.20</td>\n",
       "      <td>136897.80</td>\n",
       "      <td>471784.10</td>\n",
       "      <td>New York</td>\n",
       "      <td>192261.83</td>\n",
       "    </tr>\n",
       "    <tr>\n",
       "      <th>1</th>\n",
       "      <td>162597.70</td>\n",
       "      <td>151377.59</td>\n",
       "      <td>443898.53</td>\n",
       "      <td>California</td>\n",
       "      <td>191792.06</td>\n",
       "    </tr>\n",
       "    <tr>\n",
       "      <th>2</th>\n",
       "      <td>153441.51</td>\n",
       "      <td>101145.55</td>\n",
       "      <td>407934.54</td>\n",
       "      <td>Florida</td>\n",
       "      <td>191050.39</td>\n",
       "    </tr>\n",
       "    <tr>\n",
       "      <th>3</th>\n",
       "      <td>144372.41</td>\n",
       "      <td>118671.85</td>\n",
       "      <td>383199.62</td>\n",
       "      <td>New York</td>\n",
       "      <td>182901.99</td>\n",
       "    </tr>\n",
       "    <tr>\n",
       "      <th>4</th>\n",
       "      <td>142107.34</td>\n",
       "      <td>91391.77</td>\n",
       "      <td>366168.42</td>\n",
       "      <td>Florida</td>\n",
       "      <td>166187.94</td>\n",
       "    </tr>\n",
       "  </tbody>\n",
       "</table>\n",
       "</div>"
      ],
      "text/plain": [
       "         RnD  Administration  Marketing       State     Profit\n",
       "0  165349.20       136897.80  471784.10    New York  192261.83\n",
       "1  162597.70       151377.59  443898.53  California  191792.06\n",
       "2  153441.51       101145.55  407934.54     Florida  191050.39\n",
       "3  144372.41       118671.85  383199.62    New York  182901.99\n",
       "4  142107.34        91391.77  366168.42     Florida  166187.94"
      ]
     },
     "execution_count": 4,
     "metadata": {},
     "output_type": "execute_result"
    }
   ],
   "source": [
    "df = pd.read_csv('50_Startups.csv')\n",
    "df.head()"
   ]
  },
  {
   "cell_type": "code",
   "execution_count": 5,
   "id": "a5f89cab",
   "metadata": {},
   "outputs": [
    {
     "name": "stdout",
     "output_type": "stream",
     "text": [
      "Index(['RnD', 'Administration', 'Marketing', 'State', 'Profit'], dtype='object')\n"
     ]
    }
   ],
   "source": [
    "print(df.columns)"
   ]
  },
  {
   "cell_type": "code",
   "execution_count": 6,
   "id": "2f672198",
   "metadata": {},
   "outputs": [
    {
     "name": "stdout",
     "output_type": "stream",
     "text": [
      "                 RnD  Administration      Marketing         Profit\n",
      "count      50.000000       50.000000      50.000000      50.000000\n",
      "mean    73721.615600   121344.639600  211025.097800  112012.639200\n",
      "std     45902.256482    28017.802755  122290.310726   40306.180338\n",
      "min         0.000000    51283.140000       0.000000   14681.400000\n",
      "25%     39936.370000   103730.875000  129300.132500   90138.902500\n",
      "50%     73051.080000   122699.795000  212716.240000  107978.190000\n",
      "75%    101602.800000   144842.180000  299469.085000  139765.977500\n",
      "max    165349.200000   182645.560000  471784.100000  192261.830000\n"
     ]
    }
   ],
   "source": [
    "print(df.describe())"
   ]
  },
  {
   "cell_type": "code",
   "execution_count": 10,
   "id": "f928e8c2",
   "metadata": {},
   "outputs": [
    {
     "name": "stdout",
     "output_type": "stream",
     "text": [
      "<class 'pandas.core.frame.DataFrame'>\n",
      "RangeIndex: 50 entries, 0 to 49\n",
      "Data columns (total 5 columns):\n",
      " #   Column          Non-Null Count  Dtype  \n",
      "---  ------          --------------  -----  \n",
      " 0   RnD             50 non-null     float64\n",
      " 1   Administration  50 non-null     float64\n",
      " 2   Marketing       50 non-null     float64\n",
      " 3   State           50 non-null     object \n",
      " 4   Profit          50 non-null     float64\n",
      "dtypes: float64(4), object(1)\n",
      "memory usage: 2.1+ KB\n"
     ]
    }
   ],
   "source": [
    "df.info()"
   ]
  },
  {
   "cell_type": "markdown",
   "id": "80ce6104",
   "metadata": {},
   "source": [
    "### check the relation between variables"
   ]
  },
  {
   "cell_type": "code",
   "execution_count": 20,
   "id": "09a0fa44",
   "metadata": {},
   "outputs": [
    {
     "data": {
      "text/html": [
       "<style  type=\"text/css\" >\n",
       "#T_471b8_row0_col0,#T_471b8_row1_col1,#T_471b8_row2_col2,#T_471b8_row3_col3,#T_471b8_row4_col4{\n",
       "            background-color:  #00441b;\n",
       "            color:  #f1f1f1;\n",
       "        }#T_471b8_row0_col1{\n",
       "            background-color:  #c3e7bc;\n",
       "            color:  #000000;\n",
       "        }#T_471b8_row0_col2{\n",
       "            background-color:  #278f48;\n",
       "            color:  #000000;\n",
       "        }#T_471b8_row0_col3,#T_471b8_row3_col1{\n",
       "            background-color:  #f2faf0;\n",
       "            color:  #000000;\n",
       "        }#T_471b8_row0_col4,#T_471b8_row4_col0{\n",
       "            background-color:  #004d1f;\n",
       "            color:  #f1f1f1;\n",
       "        }#T_471b8_row1_col0{\n",
       "            background-color:  #d0edca;\n",
       "            color:  #000000;\n",
       "        }#T_471b8_row1_col2,#T_471b8_row1_col3,#T_471b8_row2_col1,#T_471b8_row3_col0,#T_471b8_row3_col4{\n",
       "            background-color:  #f7fcf5;\n",
       "            color:  #000000;\n",
       "        }#T_471b8_row1_col4{\n",
       "            background-color:  #ddf2d8;\n",
       "            color:  #000000;\n",
       "        }#T_471b8_row2_col0{\n",
       "            background-color:  #2c944c;\n",
       "            color:  #000000;\n",
       "        }#T_471b8_row2_col3{\n",
       "            background-color:  #e3f4de;\n",
       "            color:  #000000;\n",
       "        }#T_471b8_row2_col4{\n",
       "            background-color:  #268e47;\n",
       "            color:  #000000;\n",
       "        }#T_471b8_row3_col2{\n",
       "            background-color:  #dbf1d6;\n",
       "            color:  #000000;\n",
       "        }#T_471b8_row4_col1{\n",
       "            background-color:  #cdecc7;\n",
       "            color:  #000000;\n",
       "        }#T_471b8_row4_col2{\n",
       "            background-color:  #218944;\n",
       "            color:  #000000;\n",
       "        }#T_471b8_row4_col3{\n",
       "            background-color:  #f1faee;\n",
       "            color:  #000000;\n",
       "        }</style><table id=\"T_471b8_\" ><thead>    <tr>        <th class=\"blank level0\" ></th>        <th class=\"col_heading level0 col0\" >RnD</th>        <th class=\"col_heading level0 col1\" >Administration</th>        <th class=\"col_heading level0 col2\" >Marketing</th>        <th class=\"col_heading level0 col3\" >State</th>        <th class=\"col_heading level0 col4\" >Profit</th>    </tr></thead><tbody>\n",
       "                <tr>\n",
       "                        <th id=\"T_471b8_level0_row0\" class=\"row_heading level0 row0\" >RnD</th>\n",
       "                        <td id=\"T_471b8_row0_col0\" class=\"data row0 col0\" >1.000000</td>\n",
       "                        <td id=\"T_471b8_row0_col1\" class=\"data row0 col1\" >0.241955</td>\n",
       "                        <td id=\"T_471b8_row0_col2\" class=\"data row0 col2\" >0.724248</td>\n",
       "                        <td id=\"T_471b8_row0_col3\" class=\"data row0 col3\" >0.037930</td>\n",
       "                        <td id=\"T_471b8_row0_col4\" class=\"data row0 col4\" >0.972900</td>\n",
       "            </tr>\n",
       "            <tr>\n",
       "                        <th id=\"T_471b8_level0_row1\" class=\"row_heading level0 row1\" >Administration</th>\n",
       "                        <td id=\"T_471b8_row1_col0\" class=\"data row1 col0\" >0.241955</td>\n",
       "                        <td id=\"T_471b8_row1_col1\" class=\"data row1 col1\" >1.000000</td>\n",
       "                        <td id=\"T_471b8_row1_col2\" class=\"data row1 col2\" >-0.032154</td>\n",
       "                        <td id=\"T_471b8_row1_col3\" class=\"data row1 col3\" >0.003026</td>\n",
       "                        <td id=\"T_471b8_row1_col4\" class=\"data row1 col4\" >0.200717</td>\n",
       "            </tr>\n",
       "            <tr>\n",
       "                        <th id=\"T_471b8_level0_row2\" class=\"row_heading level0 row2\" >Marketing</th>\n",
       "                        <td id=\"T_471b8_row2_col0\" class=\"data row2 col0\" >0.724248</td>\n",
       "                        <td id=\"T_471b8_row2_col1\" class=\"data row2 col1\" >-0.032154</td>\n",
       "                        <td id=\"T_471b8_row2_col2\" class=\"data row2 col2\" >1.000000</td>\n",
       "                        <td id=\"T_471b8_row2_col3\" class=\"data row2 col3\" >0.137777</td>\n",
       "                        <td id=\"T_471b8_row2_col4\" class=\"data row2 col4\" >0.747766</td>\n",
       "            </tr>\n",
       "            <tr>\n",
       "                        <th id=\"T_471b8_level0_row3\" class=\"row_heading level0 row3\" >State</th>\n",
       "                        <td id=\"T_471b8_row3_col0\" class=\"data row3 col0\" >0.037930</td>\n",
       "                        <td id=\"T_471b8_row3_col1\" class=\"data row3 col1\" >0.003026</td>\n",
       "                        <td id=\"T_471b8_row3_col2\" class=\"data row3 col2\" >0.137777</td>\n",
       "                        <td id=\"T_471b8_row3_col3\" class=\"data row3 col3\" >1.000000</td>\n",
       "                        <td id=\"T_471b8_row3_col4\" class=\"data row3 col4\" >0.048471</td>\n",
       "            </tr>\n",
       "            <tr>\n",
       "                        <th id=\"T_471b8_level0_row4\" class=\"row_heading level0 row4\" >Profit</th>\n",
       "                        <td id=\"T_471b8_row4_col0\" class=\"data row4 col0\" >0.972900</td>\n",
       "                        <td id=\"T_471b8_row4_col1\" class=\"data row4 col1\" >0.200717</td>\n",
       "                        <td id=\"T_471b8_row4_col2\" class=\"data row4 col2\" >0.747766</td>\n",
       "                        <td id=\"T_471b8_row4_col3\" class=\"data row4 col3\" >0.048471</td>\n",
       "                        <td id=\"T_471b8_row4_col4\" class=\"data row4 col4\" >1.000000</td>\n",
       "            </tr>\n",
       "    </tbody></table>"
      ],
      "text/plain": [
       "<pandas.io.formats.style.Styler at 0x21450b07b80>"
      ]
     },
     "execution_count": 20,
     "metadata": {},
     "output_type": "execute_result"
    }
   ],
   "source": [
    "## state value is excluded as it is categorical\n",
    "corr = df.corr()\n",
    "corr.style.background_gradient(cmap = 'Greens')\n"
   ]
  },
  {
   "cell_type": "markdown",
   "id": "749a16a6",
   "metadata": {},
   "source": [
    "### data cleansing and normilasation"
   ]
  },
  {
   "cell_type": "code",
   "execution_count": 12,
   "id": "702d78ab",
   "metadata": {},
   "outputs": [],
   "source": [
    "## since state values are categorical it would be replaced with other values"
   ]
  },
  {
   "cell_type": "code",
   "execution_count": 18,
   "id": "f4867736",
   "metadata": {},
   "outputs": [
    {
     "name": "stdout",
     "output_type": "stream",
     "text": [
      "['New York' 'California' 'Florida']\n",
      "         RnD  Administration  Marketing  State     Profit\n",
      "0  165349.20       136897.80  471784.10      1  192261.83\n",
      "1  162597.70       151377.59  443898.53      2  191792.06\n",
      "2  153441.51       101145.55  407934.54      3  191050.39\n",
      "3  144372.41       118671.85  383199.62      1  182901.99\n",
      "4  142107.34        91391.77  366168.42      3  166187.94\n"
     ]
    }
   ],
   "source": [
    "state_values = df['State'].unique()\n",
    "print(state_values)\n",
    "\n",
    "unique_values = [1,2,3]\n",
    "\n",
    "df.replace(state_values, unique_values, inplace= True)\n",
    "print(df.head())\n"
   ]
  },
  {
   "cell_type": "markdown",
   "id": "1c7b7092",
   "metadata": {},
   "source": [
    "### EDA"
   ]
  },
  {
   "cell_type": "code",
   "execution_count": 19,
   "id": "46164d00",
   "metadata": {},
   "outputs": [
    {
     "data": {
      "text/html": [
       "<style  type=\"text/css\" >\n",
       "#T_0d237_row0_col0,#T_0d237_row1_col1,#T_0d237_row2_col2,#T_0d237_row3_col3,#T_0d237_row4_col4{\n",
       "            background-color:  #00441b;\n",
       "            color:  #f1f1f1;\n",
       "        }#T_0d237_row0_col1{\n",
       "            background-color:  #c3e7bc;\n",
       "            color:  #000000;\n",
       "        }#T_0d237_row0_col2{\n",
       "            background-color:  #278f48;\n",
       "            color:  #000000;\n",
       "        }#T_0d237_row0_col3,#T_0d237_row3_col1{\n",
       "            background-color:  #f2faf0;\n",
       "            color:  #000000;\n",
       "        }#T_0d237_row0_col4,#T_0d237_row4_col0{\n",
       "            background-color:  #004d1f;\n",
       "            color:  #f1f1f1;\n",
       "        }#T_0d237_row1_col0{\n",
       "            background-color:  #d0edca;\n",
       "            color:  #000000;\n",
       "        }#T_0d237_row1_col2,#T_0d237_row1_col3,#T_0d237_row2_col1,#T_0d237_row3_col0,#T_0d237_row3_col4{\n",
       "            background-color:  #f7fcf5;\n",
       "            color:  #000000;\n",
       "        }#T_0d237_row1_col4{\n",
       "            background-color:  #ddf2d8;\n",
       "            color:  #000000;\n",
       "        }#T_0d237_row2_col0{\n",
       "            background-color:  #2c944c;\n",
       "            color:  #000000;\n",
       "        }#T_0d237_row2_col3{\n",
       "            background-color:  #e3f4de;\n",
       "            color:  #000000;\n",
       "        }#T_0d237_row2_col4{\n",
       "            background-color:  #268e47;\n",
       "            color:  #000000;\n",
       "        }#T_0d237_row3_col2{\n",
       "            background-color:  #dbf1d6;\n",
       "            color:  #000000;\n",
       "        }#T_0d237_row4_col1{\n",
       "            background-color:  #cdecc7;\n",
       "            color:  #000000;\n",
       "        }#T_0d237_row4_col2{\n",
       "            background-color:  #218944;\n",
       "            color:  #000000;\n",
       "        }#T_0d237_row4_col3{\n",
       "            background-color:  #f1faee;\n",
       "            color:  #000000;\n",
       "        }</style><table id=\"T_0d237_\" ><thead>    <tr>        <th class=\"blank level0\" ></th>        <th class=\"col_heading level0 col0\" >RnD</th>        <th class=\"col_heading level0 col1\" >Administration</th>        <th class=\"col_heading level0 col2\" >Marketing</th>        <th class=\"col_heading level0 col3\" >State</th>        <th class=\"col_heading level0 col4\" >Profit</th>    </tr></thead><tbody>\n",
       "                <tr>\n",
       "                        <th id=\"T_0d237_level0_row0\" class=\"row_heading level0 row0\" >RnD</th>\n",
       "                        <td id=\"T_0d237_row0_col0\" class=\"data row0 col0\" >1.000000</td>\n",
       "                        <td id=\"T_0d237_row0_col1\" class=\"data row0 col1\" >0.241955</td>\n",
       "                        <td id=\"T_0d237_row0_col2\" class=\"data row0 col2\" >0.724248</td>\n",
       "                        <td id=\"T_0d237_row0_col3\" class=\"data row0 col3\" >0.037930</td>\n",
       "                        <td id=\"T_0d237_row0_col4\" class=\"data row0 col4\" >0.972900</td>\n",
       "            </tr>\n",
       "            <tr>\n",
       "                        <th id=\"T_0d237_level0_row1\" class=\"row_heading level0 row1\" >Administration</th>\n",
       "                        <td id=\"T_0d237_row1_col0\" class=\"data row1 col0\" >0.241955</td>\n",
       "                        <td id=\"T_0d237_row1_col1\" class=\"data row1 col1\" >1.000000</td>\n",
       "                        <td id=\"T_0d237_row1_col2\" class=\"data row1 col2\" >-0.032154</td>\n",
       "                        <td id=\"T_0d237_row1_col3\" class=\"data row1 col3\" >0.003026</td>\n",
       "                        <td id=\"T_0d237_row1_col4\" class=\"data row1 col4\" >0.200717</td>\n",
       "            </tr>\n",
       "            <tr>\n",
       "                        <th id=\"T_0d237_level0_row2\" class=\"row_heading level0 row2\" >Marketing</th>\n",
       "                        <td id=\"T_0d237_row2_col0\" class=\"data row2 col0\" >0.724248</td>\n",
       "                        <td id=\"T_0d237_row2_col1\" class=\"data row2 col1\" >-0.032154</td>\n",
       "                        <td id=\"T_0d237_row2_col2\" class=\"data row2 col2\" >1.000000</td>\n",
       "                        <td id=\"T_0d237_row2_col3\" class=\"data row2 col3\" >0.137777</td>\n",
       "                        <td id=\"T_0d237_row2_col4\" class=\"data row2 col4\" >0.747766</td>\n",
       "            </tr>\n",
       "            <tr>\n",
       "                        <th id=\"T_0d237_level0_row3\" class=\"row_heading level0 row3\" >State</th>\n",
       "                        <td id=\"T_0d237_row3_col0\" class=\"data row3 col0\" >0.037930</td>\n",
       "                        <td id=\"T_0d237_row3_col1\" class=\"data row3 col1\" >0.003026</td>\n",
       "                        <td id=\"T_0d237_row3_col2\" class=\"data row3 col2\" >0.137777</td>\n",
       "                        <td id=\"T_0d237_row3_col3\" class=\"data row3 col3\" >1.000000</td>\n",
       "                        <td id=\"T_0d237_row3_col4\" class=\"data row3 col4\" >0.048471</td>\n",
       "            </tr>\n",
       "            <tr>\n",
       "                        <th id=\"T_0d237_level0_row4\" class=\"row_heading level0 row4\" >Profit</th>\n",
       "                        <td id=\"T_0d237_row4_col0\" class=\"data row4 col0\" >0.972900</td>\n",
       "                        <td id=\"T_0d237_row4_col1\" class=\"data row4 col1\" >0.200717</td>\n",
       "                        <td id=\"T_0d237_row4_col2\" class=\"data row4 col2\" >0.747766</td>\n",
       "                        <td id=\"T_0d237_row4_col3\" class=\"data row4 col3\" >0.048471</td>\n",
       "                        <td id=\"T_0d237_row4_col4\" class=\"data row4 col4\" >1.000000</td>\n",
       "            </tr>\n",
       "    </tbody></table>"
      ],
      "text/plain": [
       "<pandas.io.formats.style.Styler at 0x214507b8340>"
      ]
     },
     "execution_count": 19,
     "metadata": {},
     "output_type": "execute_result"
    }
   ],
   "source": [
    "corr = df.corr()\n",
    "corr.style.background_gradient(cmap = 'Greens')"
   ]
  },
  {
   "cell_type": "code",
   "execution_count": 21,
   "id": "92775e77",
   "metadata": {},
   "outputs": [
    {
     "data": {
      "text/plain": [
       "<seaborn.axisgrid.PairGrid at 0x21450303ca0>"
      ]
     },
     "execution_count": 21,
     "metadata": {},
     "output_type": "execute_result"
    },
    {
     "data": {
      "image/png": "[encoded data removed]",
      "text/plain": [
       "<Figure size 900x900 with 30 Axes>"
      ]
     },
     "metadata": {
      "needs_background": "light"
     },
     "output_type": "display_data"
    }
   ],
   "source": [
    "sns.pairplot(df)"
   ]
  },
  {
   "cell_type": "markdown",
   "id": "68175bce",
   "metadata": {},
   "source": [
    "### select input and op variable"
   ]
  },
  {
   "cell_type": "code",
   "execution_count": 23,
   "id": "b433764f",
   "metadata": {},
   "outputs": [],
   "source": [
    "x = df.drop(['State', 'Profit'], axis=1)\n",
    "y = df['Profit']\n"
   ]
  },
  {
   "cell_type": "markdown",
   "id": "837f4cf7",
   "metadata": {},
   "source": [
    "### split the data\n"
   ]
  },
  {
   "cell_type": "code",
   "execution_count": 32,
   "id": "3afa37bf",
   "metadata": {},
   "outputs": [],
   "source": [
    "from sklearn.model_selection import train_test_split\n",
    "x_train, x_test, y_train, y_test = train_test_split(x, y, random_state= 123456, train_size= 0.8)"
   ]
  },
  {
   "cell_type": "markdown",
   "id": "9e2cc02c",
   "metadata": {},
   "source": [
    "### creating a model"
   ]
  },
  {
   "cell_type": "code",
   "execution_count": 33,
   "id": "97c80a66",
   "metadata": {},
   "outputs": [],
   "source": [
    "from sklearn.linear_model import LinearRegression\n",
    "model = LinearRegression()"
   ]
  },
  {
   "cell_type": "code",
   "execution_count": 34,
   "id": "65aca2c4",
   "metadata": {},
   "outputs": [
    {
     "data": {
      "text/plain": [
       "LinearRegression()"
      ]
     },
     "execution_count": 34,
     "metadata": {},
     "output_type": "execute_result"
    }
   ],
   "source": [
    "## fit the data\n",
    "model.fit(x_train, y_train)"
   ]
  },
  {
   "cell_type": "markdown",
   "id": "92d0880b",
   "metadata": {},
   "source": [
    "### evaluate the model"
   ]
  },
  {
   "cell_type": "code",
   "execution_count": 35,
   "id": "9d240a1f",
   "metadata": {},
   "outputs": [
    {
     "name": "stdout",
     "output_type": "stream",
     "text": [
      "0.9601722295771402\n"
     ]
    }
   ],
   "source": [
    "score = model.score(x_train, y_train)\n",
    "print(score)"
   ]
  },
  {
   "cell_type": "markdown",
   "id": "f3ed343c",
   "metadata": {},
   "source": [
    "### parameters to fine tune model"
   ]
  },
  {
   "cell_type": "code",
   "execution_count": 28,
   "id": "5e204523",
   "metadata": {},
   "outputs": [
    {
     "name": "stdout",
     "output_type": "stream",
     "text": [
      "{'copy_X': True, 'fit_intercept': True, 'n_jobs': None, 'normalize': False, 'positive': False}\n"
     ]
    }
   ],
   "source": [
    "print(model.get_params())"
   ]
  },
  {
   "cell_type": "markdown",
   "id": "1db73a60",
   "metadata": {},
   "source": [
    "### predict the values for unseen data"
   ]
  },
  {
   "cell_type": "code",
   "execution_count": 37,
   "id": "4d41ec07",
   "metadata": {},
   "outputs": [
    {
     "name": "stdout",
     "output_type": "stream",
     "text": [
      "[ 67329.47406593 117366.3802916   91360.40144635 154304.50169146\n",
      "  76117.37130998  98755.52129056  50827.79389197  99500.68282807\n",
      " 129036.46220559 103456.53045388]\n"
     ]
    }
   ],
   "source": [
    "y_prediction = model.predict(x_test)\n",
    "print(y_prediction)"
   ]
  },
  {
   "cell_type": "markdown",
   "id": "bed91928",
   "metadata": {},
   "source": [
    "### evaluation of loss functions"
   ]
  },
  {
   "cell_type": "code",
   "execution_count": 38,
   "id": "a92b649d",
   "metadata": {},
   "outputs": [
    {
     "name": "stdout",
     "output_type": "stream",
     "text": [
      "7046.237337953069\n",
      "149018716.7626929\n",
      "12207.322260131126\n",
      "0.8813666867792831\n"
     ]
    }
   ],
   "source": [
    "from sklearn.metrics import mean_absolute_error, mean_squared_error, r2_score\n",
    "\n",
    "MAE = mean_absolute_error(y_test,y_prediction)\n",
    "MSE = mean_squared_error(y_test, y_prediction)\n",
    "RMSE = np.sqrt(MSE)\n",
    "R2 = r2_score(y_test, y_prediction)\n",
    "\n",
    "print(MAE)\n",
    "print(MSE)\n",
    "print(RMSE)\n",
    "print(R2)"
   ]
  },
  {
   "cell_type": "markdown",
   "id": "7d54adff",
   "metadata": {},
   "source": [
    "### visualization only possible for 2d values"
   ]
  },
  {
   "cell_type": "code",
   "execution_count": null,
   "id": "6b92c29d",
   "metadata": {},
   "outputs": [],
   "source": []
  }
 ],
 "metadata": {
  "kernelspec": {
   "display_name": "Python 3",
   "language": "python",
   "name": "python3"
  },
  "language_info": {
   "codemirror_mode": {
    "name": "ipython",
    "version": 3
   },
   "file_extension": ".py",
   "mimetype": "text/x-python",
   "name": "python",
   "nbconvert_exporter": "python",
   "pygments_lexer": "ipython3",
   "version": "3.9.5"
  }
 },
 "nbformat": 4,
 "nbformat_minor": 5
}
