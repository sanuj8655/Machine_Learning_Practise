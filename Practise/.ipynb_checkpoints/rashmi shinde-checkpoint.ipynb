{
 "cells": [
  {
   "cell_type": "markdown",
   "id": "5652e514",
   "metadata": {},
   "source": [
    "### Import pakages"
   ]
  },
  {
   "cell_type": "code",
   "execution_count": 1,
   "id": "3565b8cc",
   "metadata": {},
   "outputs": [],
   "source": [
    "%matplotlib inline\n",
    "import numpy as np\n",
    "import pandas as pd\n",
    "import matplotlib.pyplot as plt\n",
    "import seaborn as sns"
   ]
  },
  {
   "cell_type": "markdown",
   "id": "f26e2209",
   "metadata": {},
   "source": [
    "### Read data"
   ]
  },
  {
   "cell_type": "code",
   "execution_count": 2,
   "id": "0de7cfff",
   "metadata": {},
   "outputs": [
    {
     "data": {
      "text/html": [
       "<div>\n",
       "<style scoped>\n",
       "    .dataframe tbody tr th:only-of-type {\n",
       "        vertical-align: middle;\n",
       "    }\n",
       "\n",
       "    .dataframe tbody tr th {\n",
       "        vertical-align: top;\n",
       "    }\n",
       "\n",
       "    .dataframe thead th {\n",
       "        text-align: right;\n",
       "    }\n",
       "</style>\n",
       "<table border=\"1\" class=\"dataframe\">\n",
       "  <thead>\n",
       "    <tr style=\"text-align: right;\">\n",
       "      <th></th>\n",
       "      <th>carlength</th>\n",
       "      <th>carwidth</th>\n",
       "      <th>carheight</th>\n",
       "      <th>price</th>\n",
       "      <th>Affordable</th>\n",
       "    </tr>\n",
       "  </thead>\n",
       "  <tbody>\n",
       "    <tr>\n",
       "      <th>0</th>\n",
       "      <td>141.1</td>\n",
       "      <td>60.3</td>\n",
       "      <td>47.8</td>\n",
       "      <td>5151.0</td>\n",
       "      <td>YES</td>\n",
       "    </tr>\n",
       "    <tr>\n",
       "      <th>1</th>\n",
       "      <td>144.6</td>\n",
       "      <td>61.8</td>\n",
       "      <td>48.8</td>\n",
       "      <td>5195.0</td>\n",
       "      <td>YES</td>\n",
       "    </tr>\n",
       "    <tr>\n",
       "      <th>2</th>\n",
       "      <td>144.6</td>\n",
       "      <td>62.5</td>\n",
       "      <td>48.8</td>\n",
       "      <td>5389.0</td>\n",
       "      <td>YES</td>\n",
       "    </tr>\n",
       "    <tr>\n",
       "      <th>3</th>\n",
       "      <td>150.0</td>\n",
       "      <td>63.6</td>\n",
       "      <td>49.4</td>\n",
       "      <td>5399.0</td>\n",
       "      <td>YES</td>\n",
       "    </tr>\n",
       "    <tr>\n",
       "      <th>4</th>\n",
       "      <td>150.0</td>\n",
       "      <td>63.6</td>\n",
       "      <td>49.4</td>\n",
       "      <td>5499.0</td>\n",
       "      <td>YES</td>\n",
       "    </tr>\n",
       "  </tbody>\n",
       "</table>\n",
       "</div>"
      ],
      "text/plain": [
       "   carlength  carwidth  carheight   price Affordable\n",
       "0      141.1      60.3       47.8  5151.0        YES\n",
       "1      144.6      61.8       48.8  5195.0        YES\n",
       "2      144.6      62.5       48.8  5389.0        YES\n",
       "3      150.0      63.6       49.4  5399.0        YES\n",
       "4      150.0      63.6       49.4  5499.0        YES"
      ]
     },
     "execution_count": 2,
     "metadata": {},
     "output_type": "execute_result"
    }
   ],
   "source": [
    "df = pd.read_csv('Car_Price_Analysis.csv')\n",
    "df.head()"
   ]
  },
  {
   "cell_type": "markdown",
   "id": "54eb2ba5",
   "metadata": {},
   "source": [
    "### EDA"
   ]
  },
  {
   "cell_type": "code",
   "execution_count": 3,
   "id": "b1ee49de",
   "metadata": {},
   "outputs": [
    {
     "name": "stdout",
     "output_type": "stream",
     "text": [
      "<class 'pandas.core.frame.DataFrame'>\n",
      "RangeIndex: 119 entries, 0 to 118\n",
      "Data columns (total 5 columns):\n",
      " #   Column      Non-Null Count  Dtype  \n",
      "---  ------      --------------  -----  \n",
      " 0   carlength   119 non-null    float64\n",
      " 1   carwidth    119 non-null    float64\n",
      " 2   carheight   119 non-null    float64\n",
      " 3   price       119 non-null    float64\n",
      " 4   Affordable  119 non-null    object \n",
      "dtypes: float64(4), object(1)\n",
      "memory usage: 4.8+ KB\n"
     ]
    }
   ],
   "source": [
    "df.info()"
   ]
  },
  {
   "cell_type": "code",
   "execution_count": 4,
   "id": "3b6ffb2a",
   "metadata": {},
   "outputs": [
    {
     "data": {
      "text/html": [
       "<div>\n",
       "<style scoped>\n",
       "    .dataframe tbody tr th:only-of-type {\n",
       "        vertical-align: middle;\n",
       "    }\n",
       "\n",
       "    .dataframe tbody tr th {\n",
       "        vertical-align: top;\n",
       "    }\n",
       "\n",
       "    .dataframe thead th {\n",
       "        text-align: right;\n",
       "    }\n",
       "</style>\n",
       "<table border=\"1\" class=\"dataframe\">\n",
       "  <thead>\n",
       "    <tr style=\"text-align: right;\">\n",
       "      <th></th>\n",
       "      <th>carlength</th>\n",
       "      <th>carwidth</th>\n",
       "      <th>carheight</th>\n",
       "      <th>price</th>\n",
       "    </tr>\n",
       "  </thead>\n",
       "  <tbody>\n",
       "    <tr>\n",
       "      <th>count</th>\n",
       "      <td>119.000000</td>\n",
       "      <td>119.000000</td>\n",
       "      <td>119.000000</td>\n",
       "      <td>119.000000</td>\n",
       "    </tr>\n",
       "    <tr>\n",
       "      <th>mean</th>\n",
       "      <td>173.768908</td>\n",
       "      <td>66.050420</td>\n",
       "      <td>53.427731</td>\n",
       "      <td>13996.261908</td>\n",
       "    </tr>\n",
       "    <tr>\n",
       "      <th>std</th>\n",
       "      <td>14.154641</td>\n",
       "      <td>2.452286</td>\n",
       "      <td>2.577508</td>\n",
       "      <td>8920.732508</td>\n",
       "    </tr>\n",
       "    <tr>\n",
       "      <th>min</th>\n",
       "      <td>141.100000</td>\n",
       "      <td>60.300000</td>\n",
       "      <td>47.800000</td>\n",
       "      <td>5151.000000</td>\n",
       "    </tr>\n",
       "    <tr>\n",
       "      <th>25%</th>\n",
       "      <td>165.300000</td>\n",
       "      <td>64.000000</td>\n",
       "      <td>50.800000</td>\n",
       "      <td>7372.000000</td>\n",
       "    </tr>\n",
       "    <tr>\n",
       "      <th>50%</th>\n",
       "      <td>173.200000</td>\n",
       "      <td>65.400000</td>\n",
       "      <td>53.700000</td>\n",
       "      <td>10945.000000</td>\n",
       "    </tr>\n",
       "    <tr>\n",
       "      <th>75%</th>\n",
       "      <td>183.150000</td>\n",
       "      <td>67.900000</td>\n",
       "      <td>55.250000</td>\n",
       "      <td>17000.000000</td>\n",
       "    </tr>\n",
       "    <tr>\n",
       "      <th>max</th>\n",
       "      <td>208.100000</td>\n",
       "      <td>72.000000</td>\n",
       "      <td>59.800000</td>\n",
       "      <td>45400.000000</td>\n",
       "    </tr>\n",
       "  </tbody>\n",
       "</table>\n",
       "</div>"
      ],
      "text/plain": [
       "        carlength    carwidth   carheight         price\n",
       "count  119.000000  119.000000  119.000000    119.000000\n",
       "mean   173.768908   66.050420   53.427731  13996.261908\n",
       "std     14.154641    2.452286    2.577508   8920.732508\n",
       "min    141.100000   60.300000   47.800000   5151.000000\n",
       "25%    165.300000   64.000000   50.800000   7372.000000\n",
       "50%    173.200000   65.400000   53.700000  10945.000000\n",
       "75%    183.150000   67.900000   55.250000  17000.000000\n",
       "max    208.100000   72.000000   59.800000  45400.000000"
      ]
     },
     "execution_count": 4,
     "metadata": {},
     "output_type": "execute_result"
    }
   ],
   "source": [
    "df.describe()"
   ]
  },
  {
   "cell_type": "code",
   "execution_count": 6,
   "id": "740e168b",
   "metadata": {},
   "outputs": [
    {
     "data": {
      "text/html": [
       "<style  type=\"text/css\" >\n",
       "#T_c9236_row0_col0,#T_c9236_row1_col1,#T_c9236_row2_col2,#T_c9236_row3_col3{\n",
       "            background-color:  #00441b;\n",
       "            color:  #f1f1f1;\n",
       "        }#T_c9236_row0_col1{\n",
       "            background-color:  #a3da9d;\n",
       "            color:  #000000;\n",
       "        }#T_c9236_row0_col2{\n",
       "            background-color:  #117b38;\n",
       "            color:  #f1f1f1;\n",
       "        }#T_c9236_row0_col3{\n",
       "            background-color:  #d2edcc;\n",
       "            color:  #000000;\n",
       "        }#T_c9236_row1_col0{\n",
       "            background-color:  #3ca559;\n",
       "            color:  #000000;\n",
       "        }#T_c9236_row1_col2{\n",
       "            background-color:  #5eb96b;\n",
       "            color:  #000000;\n",
       "        }#T_c9236_row1_col3{\n",
       "            background-color:  #3fa95c;\n",
       "            color:  #000000;\n",
       "        }#T_c9236_row2_col0{\n",
       "            background-color:  #1e8741;\n",
       "            color:  #000000;\n",
       "        }#T_c9236_row2_col1,#T_c9236_row2_col3,#T_c9236_row3_col0,#T_c9236_row3_col2{\n",
       "            background-color:  #f7fcf5;\n",
       "            color:  #000000;\n",
       "        }#T_c9236_row3_col1{\n",
       "            background-color:  #dbf1d5;\n",
       "            color:  #000000;\n",
       "        }</style><table id=\"T_c9236_\" ><thead>    <tr>        <th class=\"blank level0\" ></th>        <th class=\"col_heading level0 col0\" >carlength</th>        <th class=\"col_heading level0 col1\" >carwidth</th>        <th class=\"col_heading level0 col2\" >carheight</th>        <th class=\"col_heading level0 col3\" >price</th>    </tr></thead><tbody>\n",
       "                <tr>\n",
       "                        <th id=\"T_c9236_level0_row0\" class=\"row_heading level0 row0\" >carlength</th>\n",
       "                        <td id=\"T_c9236_row0_col0\" class=\"data row0 col0\" >1.000000</td>\n",
       "                        <td id=\"T_c9236_row0_col1\" class=\"data row0 col1\" >0.970771</td>\n",
       "                        <td id=\"T_c9236_row0_col2\" class=\"data row0 col2\" >0.980747</td>\n",
       "                        <td id=\"T_c9236_row0_col3\" class=\"data row0 col3\" >0.917768</td>\n",
       "            </tr>\n",
       "            <tr>\n",
       "                        <th id=\"T_c9236_level0_row1\" class=\"row_heading level0 row1\" >carwidth</th>\n",
       "                        <td id=\"T_c9236_row1_col0\" class=\"data row1 col0\" >0.970771</td>\n",
       "                        <td id=\"T_c9236_row1_col1\" class=\"data row1 col1\" >1.000000</td>\n",
       "                        <td id=\"T_c9236_row1_col2\" class=\"data row1 col2\" >0.953692</td>\n",
       "                        <td id=\"T_c9236_row1_col3\" class=\"data row1 col3\" >0.961643</td>\n",
       "            </tr>\n",
       "            <tr>\n",
       "                        <th id=\"T_c9236_level0_row2\" class=\"row_heading level0 row2\" >carheight</th>\n",
       "                        <td id=\"T_c9236_row2_col0\" class=\"data row2 col0\" >0.980747</td>\n",
       "                        <td id=\"T_c9236_row2_col1\" class=\"data row2 col1\" >0.953692</td>\n",
       "                        <td id=\"T_c9236_row2_col2\" class=\"data row2 col2\" >1.000000</td>\n",
       "                        <td id=\"T_c9236_row2_col3\" class=\"data row2 col3\" >0.896603</td>\n",
       "            </tr>\n",
       "            <tr>\n",
       "                        <th id=\"T_c9236_level0_row3\" class=\"row_heading level0 row3\" >price</th>\n",
       "                        <td id=\"T_c9236_row3_col0\" class=\"data row3 col0\" >0.917768</td>\n",
       "                        <td id=\"T_c9236_row3_col1\" class=\"data row3 col1\" >0.961643</td>\n",
       "                        <td id=\"T_c9236_row3_col2\" class=\"data row3 col2\" >0.896603</td>\n",
       "                        <td id=\"T_c9236_row3_col3\" class=\"data row3 col3\" >1.000000</td>\n",
       "            </tr>\n",
       "    </tbody></table>"
      ],
      "text/plain": [
       "<pandas.io.formats.style.Styler at 0x2496c6a7be0>"
      ]
     },
     "execution_count": 6,
     "metadata": {},
     "output_type": "execute_result"
    }
   ],
   "source": [
    "corr = df.corr()\n",
    "corr.style.background_gradient(cmap = 'Greens')"
   ]
  },
  {
   "cell_type": "code",
   "execution_count": 7,
   "id": "49db266c",
   "metadata": {},
   "outputs": [
    {
     "data": {
      "text/html": [
       "<div>\n",
       "<style scoped>\n",
       "    .dataframe tbody tr th:only-of-type {\n",
       "        vertical-align: middle;\n",
       "    }\n",
       "\n",
       "    .dataframe tbody tr th {\n",
       "        vertical-align: top;\n",
       "    }\n",
       "\n",
       "    .dataframe thead th {\n",
       "        text-align: right;\n",
       "    }\n",
       "</style>\n",
       "<table border=\"1\" class=\"dataframe\">\n",
       "  <thead>\n",
       "    <tr style=\"text-align: right;\">\n",
       "      <th></th>\n",
       "      <th>carlength</th>\n",
       "      <th>carwidth</th>\n",
       "      <th>carheight</th>\n",
       "      <th>price</th>\n",
       "      <th>Affordable</th>\n",
       "    </tr>\n",
       "  </thead>\n",
       "  <tbody>\n",
       "    <tr>\n",
       "      <th>0</th>\n",
       "      <td>False</td>\n",
       "      <td>False</td>\n",
       "      <td>False</td>\n",
       "      <td>False</td>\n",
       "      <td>False</td>\n",
       "    </tr>\n",
       "    <tr>\n",
       "      <th>1</th>\n",
       "      <td>False</td>\n",
       "      <td>False</td>\n",
       "      <td>False</td>\n",
       "      <td>False</td>\n",
       "      <td>False</td>\n",
       "    </tr>\n",
       "    <tr>\n",
       "      <th>2</th>\n",
       "      <td>False</td>\n",
       "      <td>False</td>\n",
       "      <td>False</td>\n",
       "      <td>False</td>\n",
       "      <td>False</td>\n",
       "    </tr>\n",
       "    <tr>\n",
       "      <th>3</th>\n",
       "      <td>False</td>\n",
       "      <td>False</td>\n",
       "      <td>False</td>\n",
       "      <td>False</td>\n",
       "      <td>False</td>\n",
       "    </tr>\n",
       "    <tr>\n",
       "      <th>4</th>\n",
       "      <td>False</td>\n",
       "      <td>False</td>\n",
       "      <td>False</td>\n",
       "      <td>False</td>\n",
       "      <td>False</td>\n",
       "    </tr>\n",
       "    <tr>\n",
       "      <th>...</th>\n",
       "      <td>...</td>\n",
       "      <td>...</td>\n",
       "      <td>...</td>\n",
       "      <td>...</td>\n",
       "      <td>...</td>\n",
       "    </tr>\n",
       "    <tr>\n",
       "      <th>114</th>\n",
       "      <td>False</td>\n",
       "      <td>False</td>\n",
       "      <td>False</td>\n",
       "      <td>False</td>\n",
       "      <td>False</td>\n",
       "    </tr>\n",
       "    <tr>\n",
       "      <th>115</th>\n",
       "      <td>False</td>\n",
       "      <td>False</td>\n",
       "      <td>False</td>\n",
       "      <td>False</td>\n",
       "      <td>False</td>\n",
       "    </tr>\n",
       "    <tr>\n",
       "      <th>116</th>\n",
       "      <td>False</td>\n",
       "      <td>False</td>\n",
       "      <td>False</td>\n",
       "      <td>False</td>\n",
       "      <td>False</td>\n",
       "    </tr>\n",
       "    <tr>\n",
       "      <th>117</th>\n",
       "      <td>False</td>\n",
       "      <td>False</td>\n",
       "      <td>False</td>\n",
       "      <td>False</td>\n",
       "      <td>False</td>\n",
       "    </tr>\n",
       "    <tr>\n",
       "      <th>118</th>\n",
       "      <td>False</td>\n",
       "      <td>False</td>\n",
       "      <td>False</td>\n",
       "      <td>False</td>\n",
       "      <td>False</td>\n",
       "    </tr>\n",
       "  </tbody>\n",
       "</table>\n",
       "<p>119 rows × 5 columns</p>\n",
       "</div>"
      ],
      "text/plain": [
       "     carlength  carwidth  carheight  price  Affordable\n",
       "0        False     False      False  False       False\n",
       "1        False     False      False  False       False\n",
       "2        False     False      False  False       False\n",
       "3        False     False      False  False       False\n",
       "4        False     False      False  False       False\n",
       "..         ...       ...        ...    ...         ...\n",
       "114      False     False      False  False       False\n",
       "115      False     False      False  False       False\n",
       "116      False     False      False  False       False\n",
       "117      False     False      False  False       False\n",
       "118      False     False      False  False       False\n",
       "\n",
       "[119 rows x 5 columns]"
      ]
     },
     "execution_count": 7,
     "metadata": {},
     "output_type": "execute_result"
    }
   ],
   "source": [
    "df.isna()"
   ]
  },
  {
   "cell_type": "markdown",
   "id": "9ac9ae9e",
   "metadata": {},
   "source": [
    "### Replace data from text to numeric"
   ]
  },
  {
   "cell_type": "code",
   "execution_count": 8,
   "id": "8696e751",
   "metadata": {},
   "outputs": [
    {
     "name": "stdout",
     "output_type": "stream",
     "text": [
      "['YES' 'NO']\n"
     ]
    }
   ],
   "source": [
    "unique_data = df['Affordable'].unique()\n",
    "print(unique_data)"
   ]
  },
  {
   "cell_type": "code",
   "execution_count": 9,
   "id": "680a9747",
   "metadata": {},
   "outputs": [
    {
     "name": "stdout",
     "output_type": "stream",
     "text": [
      "     carlength  carwidth  carheight    price  Affordable\n",
      "0        141.1      60.3       47.8   5151.0           1\n",
      "1        144.6      61.8       48.8   5195.0           1\n",
      "2        144.6      62.5       48.8   5389.0           1\n",
      "3        150.0      63.6       49.4   5399.0           1\n",
      "4        150.0      63.6       49.4   5499.0           1\n",
      "..         ...       ...        ...      ...         ...\n",
      "114      199.6      71.4       58.7  36000.0           0\n",
      "115      199.6      71.7       58.7  36880.0           0\n",
      "116      202.6      71.7       58.7  40960.0           0\n",
      "117      202.6      71.7       58.7  41315.0           0\n",
      "118      208.1      72.0       59.8  45400.0           0\n",
      "\n",
      "[119 rows x 5 columns]\n"
     ]
    }
   ],
   "source": [
    "replace_data = [1,0]\n",
    "df= df.replace(unique_data,replace_data)\n",
    "print(df)"
   ]
  },
  {
   "cell_type": "code",
   "execution_count": 10,
   "id": "dfa6e470",
   "metadata": {},
   "outputs": [
    {
     "name": "stdout",
     "output_type": "stream",
     "text": [
      "            carlength  carwidth  carheight     price  Affordable\n",
      "carlength    1.000000  0.970771   0.980747  0.917768   -0.791378\n",
      "carwidth     0.970771  1.000000   0.953692  0.961643   -0.814488\n",
      "carheight    0.980747  0.953692   1.000000  0.896603   -0.799775\n",
      "price        0.917768  0.961643   0.896603  1.000000   -0.753420\n",
      "Affordable  -0.791378 -0.814488  -0.799775 -0.753420    1.000000\n"
     ]
    }
   ],
   "source": [
    "print(df.corr())\n"
   ]
  },
  {
   "cell_type": "code",
   "execution_count": 11,
   "id": "159c723f",
   "metadata": {},
   "outputs": [
    {
     "data": {
      "text/plain": [
       "<seaborn.axisgrid.PairGrid at 0x2496c6a7af0>"
      ]
     },
     "execution_count": 11,
     "metadata": {},
     "output_type": "execute_result"
    },
    {
     "data": {
      "image/png": "[encoded data removed]",
      "text/plain": [
       "<Figure size 900x900 with 30 Axes>"
      ]
     },
     "metadata": {
      "needs_background": "light"
     },
     "output_type": "display_data"
    }
   ],
   "source": [
    "sns.pairplot(df)"
   ]
  },
  {
   "cell_type": "markdown",
   "id": "4f8bee18",
   "metadata": {},
   "source": [
    "### Decide x and y"
   ]
  },
  {
   "cell_type": "code",
   "execution_count": 12,
   "id": "10fd56cc",
   "metadata": {},
   "outputs": [],
   "source": [
    "# decide x and y\n",
    "x=df.drop('Affordable',axis=1)\n",
    "y=df['Affordable']"
   ]
  },
  {
   "cell_type": "markdown",
   "id": "f11d9819",
   "metadata": {},
   "source": [
    "### Split data into training and testing"
   ]
  },
  {
   "cell_type": "code",
   "execution_count": 13,
   "id": "b07aa565",
   "metadata": {},
   "outputs": [],
   "source": [
    "# split data\n",
    "from sklearn.model_selection import train_test_split\n",
    "x_train,x_test,y_train,y_test = train_test_split(x,y,train_size=0.8,random_state=123456)"
   ]
  },
  {
   "cell_type": "markdown",
   "id": "c77a9e43",
   "metadata": {},
   "source": [
    "### Prepare model"
   ]
  },
  {
   "cell_type": "code",
   "execution_count": 14,
   "id": "0f9d48ce",
   "metadata": {},
   "outputs": [
    {
     "data": {
      "text/plain": [
       "LogisticRegressionCV()"
      ]
     },
     "execution_count": 14,
     "metadata": {},
     "output_type": "execute_result"
    }
   ],
   "source": [
    "# prepare model\n",
    "from sklearn.linear_model import LogisticRegressionCV\n",
    "model = LogisticRegressionCV()\n",
    "model.fit(x_train,y_train)"
   ]
  },
  {
   "cell_type": "markdown",
   "id": "5347d656",
   "metadata": {},
   "source": [
    "### Evaluate model"
   ]
  },
  {
   "cell_type": "code",
   "execution_count": 15,
   "id": "f144b7e4",
   "metadata": {},
   "outputs": [
    {
     "name": "stdout",
     "output_type": "stream",
     "text": [
      "Confusion matrix =[[10  0]\n",
      " [ 0 14]]\n",
      "Correct data =24\n",
      "Accuracy = 1.0\n"
     ]
    }
   ],
   "source": [
    "# evaluate model\n",
    "y_prediction = model.predict(x_test)\n",
    "from sklearn.metrics import confusion_matrix\n",
    "cm = confusion_matrix(y_test,y_prediction)\n",
    "print(f\"Confusion matrix ={cm}\")\n",
    "\n",
    "correct_data = cm[1,1]+cm[0,0]\n",
    "print(f\"Correct data ={correct_data}\")\n",
    "\n",
    "from sklearn.metrics import accuracy_score\n",
    "print(f\"Accuracy = {accuracy_score(y_test,y_prediction)}\")"
   ]
  },
  {
   "cell_type": "markdown",
   "id": "efb616bd",
   "metadata": {},
   "source": [
    "### Presicion , recall and f1 score"
   ]
  },
  {
   "cell_type": "code",
   "execution_count": 16,
   "id": "49e7b50d",
   "metadata": {},
   "outputs": [
    {
     "name": "stdout",
     "output_type": "stream",
     "text": [
      "Precision = 1.0\n",
      "Recall = 1.0\n",
      "F1 score = 1.0\n"
     ]
    }
   ],
   "source": [
    "from sklearn.metrics import precision_score,recall_score,f1_score\n",
    "print(f\"Precision = {precision_score(y_test,y_prediction)}\")\n",
    "print(f\"Recall = {recall_score(y_test,y_prediction)}\")\n",
    "print(f\"F1 score = {f1_score(y_test,y_prediction)}\")"
   ]
  },
  {
   "cell_type": "markdown",
   "id": "fe476485",
   "metadata": {},
   "source": [
    "### CLassification report"
   ]
  },
  {
   "cell_type": "code",
   "execution_count": 17,
   "id": "3665502b",
   "metadata": {},
   "outputs": [
    {
     "name": "stdout",
     "output_type": "stream",
     "text": [
      "report =               precision    recall  f1-score   support\n",
      "\n",
      "           0       1.00      1.00      1.00        10\n",
      "           1       1.00      1.00      1.00        14\n",
      "\n",
      "    accuracy                           1.00        24\n",
      "   macro avg       1.00      1.00      1.00        24\n",
      "weighted avg       1.00      1.00      1.00        24\n",
      "\n"
     ]
    }
   ],
   "source": [
    "from sklearn.metrics import classification_report\n",
    "print(f\"report = {classification_report(y_test,y_prediction)}\")"
   ]
  },
  {
   "cell_type": "markdown",
   "id": "4282430f",
   "metadata": {},
   "source": [
    "### ROC-AuC and its graph"
   ]
  },
  {
   "cell_type": "code",
   "execution_count": 18,
   "id": "a9dd791c",
   "metadata": {},
   "outputs": [
    {
     "name": "stdout",
     "output_type": "stream",
     "text": [
      "ROC-AuC score = 1.0\n"
     ]
    },
    {
     "data": {
      "text/plain": [
       "[<matplotlib.lines.Line2D at 0x2496e3a5190>]"
      ]
     },
     "execution_count": 18,
     "metadata": {},
     "output_type": "execute_result"
    },
    {
     "data": {
      "image/png": "[encoded data removed]",
      "text/plain": [
       "<Figure size 432x288 with 1 Axes>"
      ]
     },
     "metadata": {
      "needs_background": "light"
     },
     "output_type": "display_data"
    }
   ],
   "source": [
    "from sklearn.metrics import roc_auc_score,plot_roc_curve\n",
    "print(f\"ROC-AuC score = {roc_auc_score(y_test,y_prediction)}\")\n",
    "\n",
    "plot_roc_curve(model,x_test,y_test)\n",
    "plt.plot([0,1],[0,1])"
   ]
  },
  {
   "cell_type": "markdown",
   "id": "04891dec",
   "metadata": {},
   "source": [
    "### Visualization"
   ]
  },
  {
   "cell_type": "code",
   "execution_count": 19,
   "id": "8887de30",
   "metadata": {},
   "outputs": [
    {
     "data": {
      "text/plain": [
       "Text(0, 0.5, 'car length')"
      ]
     },
     "execution_count": 19,
     "metadata": {},
     "output_type": "execute_result"
    },
    {
     "data": {
      "image/png": "[encoded data removed]",
      "text/plain": [
       "<Figure size 432x288 with 1 Axes>"
      ]
     },
     "metadata": {
      "needs_background": "light"
     },
     "output_type": "display_data"
    }
   ],
   "source": [
    "# for plotting graph u can take any 2 independant var. here carlength and carheight \n",
    "plt.scatter(x_test['carlength'][y_prediction==1],x_test['carheight'][y_prediction==1],label='purched')\n",
    "plt.scatter(x_test['carlength'][y_prediction==0],x_test['carheight'][y_prediction==0],label='not purched')\n",
    "plt.legend()\n",
    "plt.xlabel('price')\n",
    "plt.ylabel('car length')"
   ]
  },
  {
   "cell_type": "markdown",
   "id": "8242ee2f",
   "metadata": {},
   "source": [
    "### Try on user data"
   ]
  },
  {
   "cell_type": "code",
   "execution_count": 20,
   "id": "9b27d89d",
   "metadata": {},
   "outputs": [
    {
     "name": "stdout",
     "output_type": "stream",
     "text": [
      "result = [0]\n",
      "result = [1]\n"
     ]
    }
   ],
   "source": [
    "print(f\"result = {model.predict([[130,34,67,55000]])}\")\n",
    "print(f\"result = {model.predict([[130,34,67,5000]])}\")"
   ]
  },
  {
   "cell_type": "code",
   "execution_count": null,
   "id": "8a6cd05c",
   "metadata": {},
   "outputs": [],
   "source": []
  }
 ],
 "metadata": {
  "kernelspec": {
   "display_name": "Python 3",
   "language": "python",
   "name": "python3"
  },
  "language_info": {
   "codemirror_mode": {
    "name": "ipython",
    "version": 3
   },
   "file_extension": ".py",
   "mimetype": "text/x-python",
   "name": "python",
   "nbconvert_exporter": "python",
   "pygments_lexer": "ipython3",
   "version": "3.9.5"
  }
 },
 "nbformat": 4,
 "nbformat_minor": 5
}
