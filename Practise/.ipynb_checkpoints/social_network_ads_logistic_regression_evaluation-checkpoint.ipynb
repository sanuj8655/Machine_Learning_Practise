{
 "cells": [
  {
   "cell_type": "markdown",
   "id": "06800f3c",
   "metadata": {},
   "source": [
    "## Single Logistic Regression (Binary classification)"
   ]
  },
  {
   "cell_type": "markdown",
   "id": "53c63466",
   "metadata": {},
   "source": [
    "### import required package"
   ]
  },
  {
   "cell_type": "code",
   "execution_count": 1,
   "id": "dbc58938",
   "metadata": {},
   "outputs": [],
   "source": [
    "import numpy as np\n",
    "import pandas as pd\n",
    "import seaborn as sns\n",
    "import matplotlib.pyplot as plt\n"
   ]
  },
  {
   "cell_type": "markdown",
   "id": "3ffa5b6c",
   "metadata": {},
   "source": [
    "### read data from source and describing"
   ]
  },
  {
   "cell_type": "code",
   "execution_count": 45,
   "id": "b52f0af3",
   "metadata": {},
   "outputs": [
    {
     "data": {
      "text/html": [
       "<div>\n",
       "<style scoped>\n",
       "    .dataframe tbody tr th:only-of-type {\n",
       "        vertical-align: middle;\n",
       "    }\n",
       "\n",
       "    .dataframe tbody tr th {\n",
       "        vertical-align: top;\n",
       "    }\n",
       "\n",
       "    .dataframe thead th {\n",
       "        text-align: right;\n",
       "    }\n",
       "</style>\n",
       "<table border=\"1\" class=\"dataframe\">\n",
       "  <thead>\n",
       "    <tr style=\"text-align: right;\">\n",
       "      <th></th>\n",
       "      <th>User ID</th>\n",
       "      <th>Gender</th>\n",
       "      <th>Age</th>\n",
       "      <th>EstimatedSalary</th>\n",
       "      <th>Purchased</th>\n",
       "    </tr>\n",
       "  </thead>\n",
       "  <tbody>\n",
       "    <tr>\n",
       "      <th>0</th>\n",
       "      <td>15624510</td>\n",
       "      <td>Male</td>\n",
       "      <td>19</td>\n",
       "      <td>19000</td>\n",
       "      <td>0</td>\n",
       "    </tr>\n",
       "    <tr>\n",
       "      <th>1</th>\n",
       "      <td>15810944</td>\n",
       "      <td>Male</td>\n",
       "      <td>35</td>\n",
       "      <td>20000</td>\n",
       "      <td>0</td>\n",
       "    </tr>\n",
       "    <tr>\n",
       "      <th>2</th>\n",
       "      <td>15668575</td>\n",
       "      <td>Female</td>\n",
       "      <td>26</td>\n",
       "      <td>43000</td>\n",
       "      <td>0</td>\n",
       "    </tr>\n",
       "    <tr>\n",
       "      <th>3</th>\n",
       "      <td>15603246</td>\n",
       "      <td>Female</td>\n",
       "      <td>27</td>\n",
       "      <td>57000</td>\n",
       "      <td>0</td>\n",
       "    </tr>\n",
       "    <tr>\n",
       "      <th>4</th>\n",
       "      <td>15804002</td>\n",
       "      <td>Male</td>\n",
       "      <td>19</td>\n",
       "      <td>76000</td>\n",
       "      <td>0</td>\n",
       "    </tr>\n",
       "  </tbody>\n",
       "</table>\n",
       "</div>"
      ],
      "text/plain": [
       "    User ID  Gender  Age  EstimatedSalary  Purchased\n",
       "0  15624510    Male   19            19000          0\n",
       "1  15810944    Male   35            20000          0\n",
       "2  15668575  Female   26            43000          0\n",
       "3  15603246  Female   27            57000          0\n",
       "4  15804002    Male   19            76000          0"
      ]
     },
     "execution_count": 45,
     "metadata": {},
     "output_type": "execute_result"
    }
   ],
   "source": [
    "df = pd.read_csv('social_network_ads.csv')\n",
    "df.head()"
   ]
  },
  {
   "cell_type": "code",
   "execution_count": 46,
   "id": "a5f89cab",
   "metadata": {},
   "outputs": [
    {
     "name": "stdout",
     "output_type": "stream",
     "text": [
      "Index(['User ID', 'Gender', 'Age', 'EstimatedSalary', 'Purchased'], dtype='object')\n"
     ]
    }
   ],
   "source": [
    "print(df.columns)"
   ]
  },
  {
   "cell_type": "code",
   "execution_count": 47,
   "id": "2f672198",
   "metadata": {},
   "outputs": [
    {
     "name": "stdout",
     "output_type": "stream",
     "text": [
      "            User ID         Age  EstimatedSalary   Purchased\n",
      "count  4.000000e+02  400.000000       400.000000  400.000000\n",
      "mean   1.569154e+07   37.655000     69742.500000    0.357500\n",
      "std    7.165832e+04   10.482877     34096.960282    0.479864\n",
      "min    1.556669e+07   18.000000     15000.000000    0.000000\n",
      "25%    1.562676e+07   29.750000     43000.000000    0.000000\n",
      "50%    1.569434e+07   37.000000     70000.000000    0.000000\n",
      "75%    1.575036e+07   46.000000     88000.000000    1.000000\n",
      "max    1.581524e+07   60.000000    150000.000000    1.000000\n"
     ]
    }
   ],
   "source": [
    "print(df.describe())"
   ]
  },
  {
   "cell_type": "code",
   "execution_count": 48,
   "id": "188e23a5",
   "metadata": {},
   "outputs": [
    {
     "name": "stdout",
     "output_type": "stream",
     "text": [
      "<class 'pandas.core.frame.DataFrame'>\n",
      "RangeIndex: 400 entries, 0 to 399\n",
      "Data columns (total 5 columns):\n",
      " #   Column           Non-Null Count  Dtype \n",
      "---  ------           --------------  ----- \n",
      " 0   User ID          400 non-null    int64 \n",
      " 1   Gender           400 non-null    object\n",
      " 2   Age              400 non-null    int64 \n",
      " 3   EstimatedSalary  400 non-null    int64 \n",
      " 4   Purchased        400 non-null    int64 \n",
      "dtypes: int64(4), object(1)\n",
      "memory usage: 15.8+ KB\n",
      "None\n"
     ]
    }
   ],
   "source": [
    "## chec for data types\n",
    "print(df.info())"
   ]
  },
  {
   "cell_type": "code",
   "execution_count": 26,
   "id": "92775e77",
   "metadata": {},
   "outputs": [
    {
     "data": {
      "text/plain": [
       "<seaborn.axisgrid.PairGrid at 0x25613c72670>"
      ]
     },
     "execution_count": 26,
     "metadata": {},
     "output_type": "execute_result"
    },
    {
     "data": {
      "image/png": "[encoded data removed]",
      "text/plain": [
       "<Figure size 540x540 with 12 Axes>"
      ]
     },
     "metadata": {},
     "output_type": "display_data"
    }
   ],
   "source": [
    "sns.pairplot(df)"
   ]
  },
  {
   "cell_type": "markdown",
   "id": "80ce6104",
   "metadata": {},
   "source": [
    "### check the relation between variables"
   ]
  },
  {
   "cell_type": "code",
   "execution_count": 53,
   "id": "7b110980",
   "metadata": {},
   "outputs": [
    {
     "data": {
      "text/html": [
       "<style  type=\"text/css\" >\n",
       "#T_a4401_row0_col0,#T_a4401_row1_col1,#T_a4401_row2_col2,#T_a4401_row3_col3,#T_a4401_row4_col4{\n",
       "            background-color:  #f7fcf5;\n",
       "            color:  #000000;\n",
       "        }#T_a4401_row0_col1,#T_a4401_row0_col2,#T_a4401_row0_col4,#T_a4401_row1_col3,#T_a4401_row2_col0{\n",
       "            background-color:  #00441b;\n",
       "            color:  #f1f1f1;\n",
       "        }#T_a4401_row0_col3,#T_a4401_row4_col0{\n",
       "            background-color:  #00471c;\n",
       "            color:  #f1f1f1;\n",
       "        }#T_a4401_row1_col0{\n",
       "            background-color:  #004c1e;\n",
       "            color:  #f1f1f1;\n",
       "        }#T_a4401_row1_col2{\n",
       "            background-color:  #005c25;\n",
       "            color:  #f1f1f1;\n",
       "        }#T_a4401_row1_col4,#T_a4401_row3_col1{\n",
       "            background-color:  #005020;\n",
       "            color:  #f1f1f1;\n",
       "        }#T_a4401_row2_col1{\n",
       "            background-color:  #005321;\n",
       "            color:  #f1f1f1;\n",
       "        }#T_a4401_row2_col3{\n",
       "            background-color:  #006428;\n",
       "            color:  #f1f1f1;\n",
       "        }#T_a4401_row2_col4{\n",
       "            background-color:  #9fd899;\n",
       "            color:  #000000;\n",
       "        }#T_a4401_row3_col0{\n",
       "            background-color:  #005b25;\n",
       "            color:  #f1f1f1;\n",
       "        }#T_a4401_row3_col2{\n",
       "            background-color:  #087432;\n",
       "            color:  #f1f1f1;\n",
       "        }#T_a4401_row3_col4{\n",
       "            background-color:  #3da65a;\n",
       "            color:  #000000;\n",
       "        }#T_a4401_row4_col1{\n",
       "            background-color:  #00491d;\n",
       "            color:  #f1f1f1;\n",
       "        }#T_a4401_row4_col2{\n",
       "            background-color:  #a0d99b;\n",
       "            color:  #000000;\n",
       "        }#T_a4401_row4_col3{\n",
       "            background-color:  #349d53;\n",
       "            color:  #000000;\n",
       "        }</style><table id=\"T_a4401_\" ><thead>    <tr>        <th class=\"blank level0\" ></th>        <th class=\"col_heading level0 col0\" >User ID</th>        <th class=\"col_heading level0 col1\" >Gender</th>        <th class=\"col_heading level0 col2\" >Age</th>        <th class=\"col_heading level0 col3\" >EstimatedSalary</th>        <th class=\"col_heading level0 col4\" >Purchased</th>    </tr></thead><tbody>\n",
       "                <tr>\n",
       "                        <th id=\"T_a4401_level0_row0\" class=\"row_heading level0 row0\" >User ID</th>\n",
       "                        <td id=\"T_a4401_row0_col0\" class=\"data row0 col0\" >1.000000</td>\n",
       "                        <td id=\"T_a4401_row0_col1\" class=\"data row0 col1\" >0.025249</td>\n",
       "                        <td id=\"T_a4401_row0_col2\" class=\"data row0 col2\" >-0.000721</td>\n",
       "                        <td id=\"T_a4401_row0_col3\" class=\"data row0 col3\" >0.071097</td>\n",
       "                        <td id=\"T_a4401_row0_col4\" class=\"data row0 col4\" >0.007120</td>\n",
       "            </tr>\n",
       "            <tr>\n",
       "                        <th id=\"T_a4401_level0_row1\" class=\"row_heading level0 row1\" >Gender</th>\n",
       "                        <td id=\"T_a4401_row1_col0\" class=\"data row1 col0\" >0.025249</td>\n",
       "                        <td id=\"T_a4401_row1_col1\" class=\"data row1 col1\" >1.000000</td>\n",
       "                        <td id=\"T_a4401_row1_col2\" class=\"data row1 col2\" >0.073741</td>\n",
       "                        <td id=\"T_a4401_row1_col3\" class=\"data row1 col3\" >0.060435</td>\n",
       "                        <td id=\"T_a4401_row1_col4\" class=\"data row1 col4\" >0.042469</td>\n",
       "            </tr>\n",
       "            <tr>\n",
       "                        <th id=\"T_a4401_level0_row2\" class=\"row_heading level0 row2\" >Age</th>\n",
       "                        <td id=\"T_a4401_row2_col0\" class=\"data row2 col0\" >-0.000721</td>\n",
       "                        <td id=\"T_a4401_row2_col1\" class=\"data row2 col1\" >0.073741</td>\n",
       "                        <td id=\"T_a4401_row2_col2\" class=\"data row2 col2\" >1.000000</td>\n",
       "                        <td id=\"T_a4401_row2_col3\" class=\"data row2 col3\" >0.155238</td>\n",
       "                        <td id=\"T_a4401_row2_col4\" class=\"data row2 col4\" >0.622454</td>\n",
       "            </tr>\n",
       "            <tr>\n",
       "                        <th id=\"T_a4401_level0_row3\" class=\"row_heading level0 row3\" >EstimatedSalary</th>\n",
       "                        <td id=\"T_a4401_row3_col0\" class=\"data row3 col0\" >0.071097</td>\n",
       "                        <td id=\"T_a4401_row3_col1\" class=\"data row3 col1\" >0.060435</td>\n",
       "                        <td id=\"T_a4401_row3_col2\" class=\"data row3 col2\" >0.155238</td>\n",
       "                        <td id=\"T_a4401_row3_col3\" class=\"data row3 col3\" >1.000000</td>\n",
       "                        <td id=\"T_a4401_row3_col4\" class=\"data row3 col4\" >0.362083</td>\n",
       "            </tr>\n",
       "            <tr>\n",
       "                        <th id=\"T_a4401_level0_row4\" class=\"row_heading level0 row4\" >Purchased</th>\n",
       "                        <td id=\"T_a4401_row4_col0\" class=\"data row4 col0\" >0.007120</td>\n",
       "                        <td id=\"T_a4401_row4_col1\" class=\"data row4 col1\" >0.042469</td>\n",
       "                        <td id=\"T_a4401_row4_col2\" class=\"data row4 col2\" >0.622454</td>\n",
       "                        <td id=\"T_a4401_row4_col3\" class=\"data row4 col3\" >0.362083</td>\n",
       "                        <td id=\"T_a4401_row4_col4\" class=\"data row4 col4\" >1.000000</td>\n",
       "            </tr>\n",
       "    </tbody></table>"
      ],
      "text/plain": [
       "<pandas.io.formats.style.Styler at 0x1afa9e07c40>"
      ]
     },
     "execution_count": 53,
     "metadata": {},
     "output_type": "execute_result"
    }
   ],
   "source": [
    "corr = df.corr()\n",
    "corr.style.background_gradient(cmap = 'Greens_r')"
   ]
  },
  {
   "cell_type": "code",
   "execution_count": 52,
   "id": "bdc35a12",
   "metadata": {},
   "outputs": [
    {
     "name": "stdout",
     "output_type": "stream",
     "text": [
      "[0. 1.]\n",
      "    User ID  Gender  Age  EstimatedSalary  Purchased\n",
      "0  15624510     0.0   19            19000          0\n",
      "1  15810944     0.0   35            20000          0\n",
      "2  15668575     1.0   26            43000          0\n",
      "3  15603246     1.0   27            57000          0\n",
      "4  15804002     0.0   19            76000          0\n"
     ]
    }
   ],
   "source": [
    "## normalization of data\n",
    "#convert gender to unique values\n",
    "vals = df['Gender'].unique()\n",
    "print(vals)\n",
    "\n",
    "df.replace(vals, [0, 1], inplace= True)\n",
    "# print(df['Gender'])\n",
    "print(df.head())"
   ]
  },
  {
   "cell_type": "code",
   "execution_count": 55,
   "id": "9c019fbd",
   "metadata": {},
   "outputs": [
    {
     "data": {
      "text/html": [
       "<style  type=\"text/css\" >\n",
       "#T_6a9cc_row0_col0,#T_6a9cc_row1_col1,#T_6a9cc_row2_col2,#T_6a9cc_row3_col3,#T_6a9cc_row4_col4{\n",
       "            background-color:  #00441b;\n",
       "            color:  #f1f1f1;\n",
       "        }#T_6a9cc_row0_col1,#T_6a9cc_row0_col2,#T_6a9cc_row0_col4,#T_6a9cc_row1_col3,#T_6a9cc_row2_col0{\n",
       "            background-color:  #f7fcf5;\n",
       "            color:  #000000;\n",
       "        }#T_6a9cc_row0_col3,#T_6a9cc_row4_col0{\n",
       "            background-color:  #f6fcf4;\n",
       "            color:  #000000;\n",
       "        }#T_6a9cc_row1_col0{\n",
       "            background-color:  #f4fbf1;\n",
       "            color:  #000000;\n",
       "        }#T_6a9cc_row1_col2{\n",
       "            background-color:  #ecf8e8;\n",
       "            color:  #000000;\n",
       "        }#T_6a9cc_row1_col4,#T_6a9cc_row3_col1{\n",
       "            background-color:  #f2faef;\n",
       "            color:  #000000;\n",
       "        }#T_6a9cc_row2_col1{\n",
       "            background-color:  #f0f9ed;\n",
       "            color:  #000000;\n",
       "        }#T_6a9cc_row2_col3{\n",
       "            background-color:  #e9f7e5;\n",
       "            color:  #000000;\n",
       "        }#T_6a9cc_row2_col4{\n",
       "            background-color:  #43ac5e;\n",
       "            color:  #000000;\n",
       "        }#T_6a9cc_row3_col0{\n",
       "            background-color:  #edf8e9;\n",
       "            color:  #000000;\n",
       "        }#T_6a9cc_row3_col2{\n",
       "            background-color:  #def2d9;\n",
       "            color:  #000000;\n",
       "        }#T_6a9cc_row3_col4{\n",
       "            background-color:  #a7dba0;\n",
       "            color:  #000000;\n",
       "        }#T_6a9cc_row4_col1{\n",
       "            background-color:  #f5fbf2;\n",
       "            color:  #000000;\n",
       "        }#T_6a9cc_row4_col2{\n",
       "            background-color:  #42ab5d;\n",
       "            color:  #000000;\n",
       "        }#T_6a9cc_row4_col3{\n",
       "            background-color:  #b1e0ab;\n",
       "            color:  #000000;\n",
       "        }</style><table id=\"T_6a9cc_\" ><thead>    <tr>        <th class=\"blank level0\" ></th>        <th class=\"col_heading level0 col0\" >User ID</th>        <th class=\"col_heading level0 col1\" >Gender</th>        <th class=\"col_heading level0 col2\" >Age</th>        <th class=\"col_heading level0 col3\" >EstimatedSalary</th>        <th class=\"col_heading level0 col4\" >Purchased</th>    </tr></thead><tbody>\n",
       "                <tr>\n",
       "                        <th id=\"T_6a9cc_level0_row0\" class=\"row_heading level0 row0\" >User ID</th>\n",
       "                        <td id=\"T_6a9cc_row0_col0\" class=\"data row0 col0\" >1.000000</td>\n",
       "                        <td id=\"T_6a9cc_row0_col1\" class=\"data row0 col1\" >0.025249</td>\n",
       "                        <td id=\"T_6a9cc_row0_col2\" class=\"data row0 col2\" >-0.000721</td>\n",
       "                        <td id=\"T_6a9cc_row0_col3\" class=\"data row0 col3\" >0.071097</td>\n",
       "                        <td id=\"T_6a9cc_row0_col4\" class=\"data row0 col4\" >0.007120</td>\n",
       "            </tr>\n",
       "            <tr>\n",
       "                        <th id=\"T_6a9cc_level0_row1\" class=\"row_heading level0 row1\" >Gender</th>\n",
       "                        <td id=\"T_6a9cc_row1_col0\" class=\"data row1 col0\" >0.025249</td>\n",
       "                        <td id=\"T_6a9cc_row1_col1\" class=\"data row1 col1\" >1.000000</td>\n",
       "                        <td id=\"T_6a9cc_row1_col2\" class=\"data row1 col2\" >0.073741</td>\n",
       "                        <td id=\"T_6a9cc_row1_col3\" class=\"data row1 col3\" >0.060435</td>\n",
       "                        <td id=\"T_6a9cc_row1_col4\" class=\"data row1 col4\" >0.042469</td>\n",
       "            </tr>\n",
       "            <tr>\n",
       "                        <th id=\"T_6a9cc_level0_row2\" class=\"row_heading level0 row2\" >Age</th>\n",
       "                        <td id=\"T_6a9cc_row2_col0\" class=\"data row2 col0\" >-0.000721</td>\n",
       "                        <td id=\"T_6a9cc_row2_col1\" class=\"data row2 col1\" >0.073741</td>\n",
       "                        <td id=\"T_6a9cc_row2_col2\" class=\"data row2 col2\" >1.000000</td>\n",
       "                        <td id=\"T_6a9cc_row2_col3\" class=\"data row2 col3\" >0.155238</td>\n",
       "                        <td id=\"T_6a9cc_row2_col4\" class=\"data row2 col4\" >0.622454</td>\n",
       "            </tr>\n",
       "            <tr>\n",
       "                        <th id=\"T_6a9cc_level0_row3\" class=\"row_heading level0 row3\" >EstimatedSalary</th>\n",
       "                        <td id=\"T_6a9cc_row3_col0\" class=\"data row3 col0\" >0.071097</td>\n",
       "                        <td id=\"T_6a9cc_row3_col1\" class=\"data row3 col1\" >0.060435</td>\n",
       "                        <td id=\"T_6a9cc_row3_col2\" class=\"data row3 col2\" >0.155238</td>\n",
       "                        <td id=\"T_6a9cc_row3_col3\" class=\"data row3 col3\" >1.000000</td>\n",
       "                        <td id=\"T_6a9cc_row3_col4\" class=\"data row3 col4\" >0.362083</td>\n",
       "            </tr>\n",
       "            <tr>\n",
       "                        <th id=\"T_6a9cc_level0_row4\" class=\"row_heading level0 row4\" >Purchased</th>\n",
       "                        <td id=\"T_6a9cc_row4_col0\" class=\"data row4 col0\" >0.007120</td>\n",
       "                        <td id=\"T_6a9cc_row4_col1\" class=\"data row4 col1\" >0.042469</td>\n",
       "                        <td id=\"T_6a9cc_row4_col2\" class=\"data row4 col2\" >0.622454</td>\n",
       "                        <td id=\"T_6a9cc_row4_col3\" class=\"data row4 col3\" >0.362083</td>\n",
       "                        <td id=\"T_6a9cc_row4_col4\" class=\"data row4 col4\" >1.000000</td>\n",
       "            </tr>\n",
       "    </tbody></table>"
      ],
      "text/plain": [
       "<pandas.io.formats.style.Styler at 0x1afaa0990a0>"
      ]
     },
     "execution_count": 55,
     "metadata": {},
     "output_type": "execute_result"
    }
   ],
   "source": [
    "### check the relation between variables\n",
    "\n",
    "corr = df.corr()\n",
    "corr.style.background_gradient(cmap = 'Greens')"
   ]
  },
  {
   "cell_type": "markdown",
   "id": "b33863c2",
   "metadata": {},
   "source": [
    "### using ordianal encoder\n"
   ]
  },
  {
   "cell_type": "code",
   "execution_count": 56,
   "id": "c640a8ab",
   "metadata": {},
   "outputs": [],
   "source": [
    "# from sklearn.preprocessing import OrdinalEncoder\n",
    "# encoder = OrdinalEncoder()\n",
    "# encoder.fit(df[[\"Gender\"]])\n",
    "# df[['Gender']] = encoder.transform(df[[\"Gender\"]])\n",
    "# print(df)"
   ]
  },
  {
   "cell_type": "markdown",
   "id": "68175bce",
   "metadata": {},
   "source": [
    "### select input and op variable"
   ]
  },
  {
   "cell_type": "code",
   "execution_count": 57,
   "id": "b433764f",
   "metadata": {},
   "outputs": [],
   "source": [
    "x = df.drop(['User ID','Gender','Purchased'], axis=1)\n",
    "y = df['Purchased']"
   ]
  },
  {
   "cell_type": "markdown",
   "id": "837f4cf7",
   "metadata": {},
   "source": [
    "### split the data\n"
   ]
  },
  {
   "cell_type": "code",
   "execution_count": 63,
   "id": "3afa37bf",
   "metadata": {},
   "outputs": [],
   "source": [
    "from sklearn.model_selection import train_test_split\n",
    "x_train, x_test, y_train, y_test = train_test_split(x, y, random_state= 123456, train_size= 0.8)"
   ]
  },
  {
   "cell_type": "markdown",
   "id": "9e2cc02c",
   "metadata": {},
   "source": [
    "### creating a model"
   ]
  },
  {
   "cell_type": "code",
   "execution_count": 64,
   "id": "97c80a66",
   "metadata": {},
   "outputs": [],
   "source": [
    "from sklearn.linear_model import LogisticRegressionCV\n",
    "model = LogisticRegressionCV()"
   ]
  },
  {
   "cell_type": "code",
   "execution_count": 65,
   "id": "65aca2c4",
   "metadata": {},
   "outputs": [
    {
     "data": {
      "text/plain": [
       "LogisticRegressionCV()"
      ]
     },
     "execution_count": 65,
     "metadata": {},
     "output_type": "execute_result"
    }
   ],
   "source": [
    "## fit the data\n",
    "model.fit(x_train, y_train)"
   ]
  },
  {
   "cell_type": "markdown",
   "id": "f3ed343c",
   "metadata": {},
   "source": [
    "### parameters to fine tune model"
   ]
  },
  {
   "cell_type": "code",
   "execution_count": 62,
   "id": "5e204523",
   "metadata": {},
   "outputs": [
    {
     "name": "stdout",
     "output_type": "stream",
     "text": [
      "{'C': 1.0, 'class_weight': None, 'dual': False, 'fit_intercept': True, 'intercept_scaling': 1, 'l1_ratio': None, 'max_iter': 100, 'multi_class': 'auto', 'n_jobs': None, 'penalty': 'l2', 'random_state': None, 'solver': 'lbfgs', 'tol': 0.0001, 'verbose': 0, 'warm_start': False}\n"
     ]
    }
   ],
   "source": [
    "print(model.get_params())"
   ]
  },
  {
   "cell_type": "markdown",
   "id": "1db73a60",
   "metadata": {},
   "source": [
    "### predict the values for unseen data"
   ]
  },
  {
   "cell_type": "code",
   "execution_count": 66,
   "id": "4d41ec07",
   "metadata": {},
   "outputs": [],
   "source": [
    "y_prediction = model.predict(x_test)\n",
    "#print(y_prediction)\n"
   ]
  },
  {
   "cell_type": "markdown",
   "id": "bed91928",
   "metadata": {},
   "source": [
    "### evaluation of classification model"
   ]
  },
  {
   "cell_type": "code",
   "execution_count": 67,
   "id": "a92b649d",
   "metadata": {},
   "outputs": [
    {
     "name": "stdout",
     "output_type": "stream",
     "text": [
      "[[55  1]\n",
      " [10 14]]\n"
     ]
    }
   ],
   "source": [
    "from sklearn.metrics import confusion_matrix\n",
    "cm = confusion_matrix(y_test, y_prediction)\n",
    "print(cm)"
   ]
  },
  {
   "cell_type": "code",
   "execution_count": 68,
   "id": "e61469ed",
   "metadata": {},
   "outputs": [
    {
     "name": "stdout",
     "output_type": "stream",
     "text": [
      "0.8625\n"
     ]
    }
   ],
   "source": [
    "correct = cm[0,0] + cm[1,1]\n",
    "wrong = cm[1,0] + cm[0,1]\n",
    "total = correct + wrong\n",
    "accuracy = correct/total\n",
    "print(accuracy)"
   ]
  },
  {
   "cell_type": "code",
   "execution_count": 69,
   "id": "a59debe9",
   "metadata": {},
   "outputs": [
    {
     "name": "stdout",
     "output_type": "stream",
     "text": [
      "0.8625\n"
     ]
    }
   ],
   "source": [
    "from sklearn.metrics import accuracy_score\n",
    "print(accuracy_score(y_test, y_prediction))"
   ]
  },
  {
   "cell_type": "markdown",
   "id": "49efe763",
   "metadata": {},
   "source": [
    "### precision value"
   ]
  },
  {
   "cell_type": "code",
   "execution_count": 71,
   "id": "d9e22c7d",
   "metadata": {},
   "outputs": [
    {
     "name": "stdout",
     "output_type": "stream",
     "text": [
      "0.9333333333333333\n"
     ]
    }
   ],
   "source": [
    "from sklearn.metrics import precision_score\n",
    "print(precision_score(y_test, y_prediction))\n"
   ]
  },
  {
   "cell_type": "markdown",
   "id": "65d3de62",
   "metadata": {},
   "source": [
    "### recal value"
   ]
  },
  {
   "cell_type": "code",
   "execution_count": 72,
   "id": "44438e38",
   "metadata": {},
   "outputs": [
    {
     "name": "stdout",
     "output_type": "stream",
     "text": [
      "0.5833333333333334\n"
     ]
    }
   ],
   "source": [
    "from sklearn.metrics import recall_score\n",
    "print(recall_score(y_test, y_prediction))\n"
   ]
  },
  {
   "cell_type": "markdown",
   "id": "424f5d8b",
   "metadata": {},
   "source": [
    "### F1 score"
   ]
  },
  {
   "cell_type": "code",
   "execution_count": 74,
   "id": "21b7c486",
   "metadata": {},
   "outputs": [
    {
     "name": "stdout",
     "output_type": "stream",
     "text": [
      "0.7179487179487181\n"
     ]
    }
   ],
   "source": [
    "from sklearn.metrics import f1_score\n",
    "print(f1_score(y_test, y_prediction))"
   ]
  },
  {
   "cell_type": "markdown",
   "id": "46f7f1c7",
   "metadata": {},
   "source": [
    "### classification report"
   ]
  },
  {
   "cell_type": "code",
   "execution_count": 75,
   "id": "a9de31ea",
   "metadata": {},
   "outputs": [
    {
     "name": "stdout",
     "output_type": "stream",
     "text": [
      "              precision    recall  f1-score   support\n",
      "\n",
      "           0       0.85      0.98      0.91        56\n",
      "           1       0.93      0.58      0.72        24\n",
      "\n",
      "    accuracy                           0.86        80\n",
      "   macro avg       0.89      0.78      0.81        80\n",
      "weighted avg       0.87      0.86      0.85        80\n",
      "\n"
     ]
    }
   ],
   "source": [
    "from sklearn.metrics import classification_report\n",
    "print(classification_report(y_test, y_prediction))"
   ]
  },
  {
   "cell_type": "code",
   "execution_count": 79,
   "id": "2e11eb96",
   "metadata": {},
   "outputs": [
    {
     "name": "stdout",
     "output_type": "stream",
     "text": [
      "0.7827380952380953\n"
     ]
    }
   ],
   "source": [
    "from sklearn.metrics import roc_curve, roc_auc_score, plot_roc_curve\n",
    "\n",
    "print(roc_auc_score(y_test, y_prediction))"
   ]
  },
  {
   "cell_type": "code",
   "execution_count": 82,
   "id": "b98c1ab1",
   "metadata": {},
   "outputs": [
    {
     "name": "stdout",
     "output_type": "stream",
     "text": [
      "[0.         0.01785714 1.        ]\n",
      "[0.         0.58333333 1.        ]\n",
      "[2 1 0]\n"
     ]
    },
    {
     "data": {
      "text/plain": [
       "[<matplotlib.lines.Line2D at 0x1afab2ab5b0>]"
      ]
     },
     "execution_count": 82,
     "metadata": {},
     "output_type": "execute_result"
    },
    {
     "data": {
      "image/png": "[encoded data removed]",
      "text/plain": [
       "<Figure size 432x288 with 1 Axes>"
      ]
     },
     "metadata": {
      "needs_background": "light"
     },
     "output_type": "display_data"
    }
   ],
   "source": [
    "fpr, tpr, threshold = roc_curve(y_test, y_prediction)\n",
    "print(fpr)\n",
    "print(tpr)\n",
    "print(threshold)\n",
    "plt.plot(fpr, tpr)"
   ]
  },
  {
   "cell_type": "code",
   "execution_count": 81,
   "id": "abe9e778",
   "metadata": {},
   "outputs": [
    {
     "data": {
      "text/plain": [
       "[<matplotlib.lines.Line2D at 0x1afab278670>]"
      ]
     },
     "execution_count": 81,
     "metadata": {},
     "output_type": "execute_result"
    },
    {
     "data": {
      "image/png": "[encoded data removed]",
      "text/plain": [
       "<Figure size 432x288 with 1 Axes>"
      ]
     },
     "metadata": {
      "needs_background": "light"
     },
     "output_type": "display_data"
    }
   ],
   "source": [
    "plot = plot_roc_curve(model, x_test, y_test)\n",
    "plt.plot([0,1], [0,1], linestyle = '--')"
   ]
  },
  {
   "cell_type": "code",
   "execution_count": 91,
   "id": "42af2a5f",
   "metadata": {},
   "outputs": [
    {
     "data": {
      "text/plain": [
       "Text(0.5, 1.0, 'Age vs Salary')"
      ]
     },
     "execution_count": 91,
     "metadata": {},
     "output_type": "execute_result"
    },
    {
     "data": {
      "image/png": "[encoded data removed]",
      "text/plain": [
       "<Figure size 432x288 with 1 Axes>"
      ]
     },
     "metadata": {
      "needs_background": "light"
     },
     "output_type": "display_data"
    }
   ],
   "source": [
    "plt.scatter(x_test['Age'][y_prediction == 0], x_test['EstimatedSalary'][y_prediction == 0], c = 'red')\n",
    "plt.scatter(x_test['Age'][y_prediction == 1], x_test['EstimatedSalary'][y_prediction == 1], c = 'green')\n",
    "plt.xlabel('Age')\n",
    "plt.ylabel('Salary')\n",
    "plt.title('Age vs Salary')"
   ]
  },
  {
   "cell_type": "code",
   "execution_count": null,
   "id": "34226b6b",
   "metadata": {},
   "outputs": [],
   "source": []
  }
 ],
 "metadata": {
  "kernelspec": {
   "display_name": "Python 3",
   "language": "python",
   "name": "python3"
  },
  "language_info": {
   "codemirror_mode": {
    "name": "ipython",
    "version": 3
   },
   "file_extension": ".py",
   "mimetype": "text/x-python",
   "name": "python",
   "nbconvert_exporter": "python",
   "pygments_lexer": "ipython3",
   "version": "3.9.5"
  }
 },
 "nbformat": 4,
 "nbformat_minor": 5
}
