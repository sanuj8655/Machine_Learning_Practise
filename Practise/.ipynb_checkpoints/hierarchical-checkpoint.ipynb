{
 "cells": [
  {
   "cell_type": "code",
   "execution_count": 1,
   "id": "6ae13c42",
   "metadata": {},
   "outputs": [],
   "source": [
    "import numpy as np\n",
    "import pandas as pd\n",
    "import matplotlib.pyplot as plt\n",
    "import seaborn as sns"
   ]
  },
  {
   "cell_type": "code",
   "execution_count": 34,
   "id": "c5a5a804",
   "metadata": {},
   "outputs": [
    {
     "name": "stdout",
     "output_type": "stream",
     "text": [
      "   CustomerID  Gender  Age  Annual Income (k$)  Spending Score (1-100)\n",
      "0           1    Male   19                  15                      39\n",
      "1           2    Male   21                  15                      81\n",
      "2           3  Female   20                  16                       6\n",
      "3           4  Female   23                  16                      77\n",
      "4           5  Female   31                  17                      40\n"
     ]
    }
   ],
   "source": [
    "df = pd.read_csv('Mall_Customers.csv')\n",
    "print(df.head())"
   ]
  },
  {
   "cell_type": "code",
   "execution_count": 35,
   "id": "a41346de",
   "metadata": {},
   "outputs": [
    {
     "name": "stdout",
     "output_type": "stream",
     "text": [
      "   Annual Income (k$)  Spending Score (1-100)\n",
      "0                  15                      39\n",
      "1                  15                      81\n",
      "2                  16                       6\n",
      "3                  16                      77\n",
      "4                  17                      40\n"
     ]
    }
   ],
   "source": [
    "# clean the data\n",
    "df = df.drop(['CustomerID', 'Age', 'Gender'], axis=1)\n",
    "print(df.head())"
   ]
  },
  {
   "cell_type": "code",
   "execution_count": 36,
   "id": "9db1589d",
   "metadata": {},
   "outputs": [],
   "source": [
    "### create the clusters\n",
    "from sklearn.cluster import AgglomerativeClustering\n",
    "\n",
    "# create the hiearchical model\n",
    "hiearchical = AgglomerativeClustering(n_clusters=5)"
   ]
  },
  {
   "cell_type": "code",
   "execution_count": 37,
   "id": "dae4d865",
   "metadata": {},
   "outputs": [
    {
     "name": "stdout",
     "output_type": "stream",
     "text": [
      "[4 3 4 3 4 3 4 3 4 3 4 3 4 3 4 3 4 3 4 3 4 3 4 3 4 3 4 3 4 3 4 3 4 3 4 3 4\n",
      " 3 4 3 4 3 4 1 4 1 1 1 1 1 1 1 1 1 1 1 1 1 1 1 1 1 1 1 1 1 1 1 1 1 1 1 1 1\n",
      " 1 1 1 1 1 1 1 1 1 1 1 1 1 1 1 1 1 1 1 1 1 1 1 1 1 1 1 1 1 1 1 1 1 1 1 1 1\n",
      " 1 1 1 1 1 1 1 1 1 1 1 1 2 1 2 1 2 0 2 0 2 1 2 0 2 0 2 0 2 0 2 1 2 0 2 1 2\n",
      " 0 2 0 2 0 2 0 2 0 2 0 2 1 2 0 2 0 2 0 2 0 2 0 2 0 2 0 2 0 2 0 2 0 2 0 2 0\n",
      " 2 0 2 0 2 0 2 0 2 0 2 0 2 0 2]\n"
     ]
    }
   ],
   "source": [
    "# fit the data into the clusters\n",
    "clusters = hiearchical.fit_predict(df)\n",
    "print(clusters)"
   ]
  },
  {
   "cell_type": "code",
   "execution_count": 38,
   "id": "69990b1e",
   "metadata": {},
   "outputs": [
    {
     "name": "stdout",
     "output_type": "stream",
     "text": [
      "[[ 65  68]\n",
      " [ 48  49]\n",
      " [156 158]\n",
      " [129 131]\n",
      " [ 21  23]\n",
      " [ 51  53]\n",
      " [ 60  61]\n",
      " [ 67  69]\n",
      " [ 64  66]\n",
      " [ 79  82]\n",
      " [ 74  85]\n",
      " [ 78  80]\n",
      " [ 75  81]\n",
      " [ 92  97]\n",
      " [101 109]\n",
      " [107 113]\n",
      " [ 94  98]\n",
      " [103 104]\n",
      " [100 105]\n",
      " [150 154]\n",
      " [119 120]\n",
      " [170 174]\n",
      " [151 155]\n",
      " [ 63 200]\n",
      " [ 99 213]\n",
      " [  3   5]\n",
      " [ 26  28]\n",
      " [ 40  42]\n",
      " [ 10  14]\n",
      " [ 54  57]\n",
      " [ 58  62]\n",
      " [ 70  73]\n",
      " [ 91  93]\n",
      " [108 112]\n",
      " [126 132]\n",
      " [137 139]\n",
      " [147 159]\n",
      " [ 77 210]\n",
      " [ 76 212]\n",
      " [149 222]\n",
      " [ 12 228]\n",
      " [116 233]\n",
      " [ 13  15]\n",
      " [  2   6]\n",
      " [ 87  90]\n",
      " [106 110]\n",
      " [114 115]\n",
      " [128 130]\n",
      " [134 136]\n",
      " [148 152]\n",
      " [153 157]\n",
      " [165 171]\n",
      " [111 217]\n",
      " [  0   4]\n",
      " [ 50  52]\n",
      " [ 86  88]\n",
      " [ 89  96]\n",
      " [146 160]\n",
      " [216 218]\n",
      " [164 168]\n",
      " [181 183]\n",
      " [187 191]\n",
      " [186 190]\n",
      " [176 221]\n",
      " [133 235]\n",
      " [208 230]\n",
      " [140 248]\n",
      " [125 203]\n",
      " [ 38  44]\n",
      " [ 83 209]\n",
      " [ 59 207]\n",
      " [122 220]\n",
      " [ 16  20]\n",
      " [ 30  32]\n",
      " [118 121]\n",
      " [102 117]\n",
      " [ 34  36]\n",
      " [214 215]\n",
      " [135 143]\n",
      " [167 173]\n",
      " [ 95 224]\n",
      " [138 247]\n",
      " [232 258]\n",
      " [ 37  39]\n",
      " [ 55 201]\n",
      " [ 84 238]\n",
      " [ 46 254]\n",
      " [ 43  45]\n",
      " [245 246]\n",
      " [ 72 270]\n",
      " [ 11  19]\n",
      " [  8 243]\n",
      " [ 56 265]\n",
      " [ 47 229]\n",
      " [123 127]\n",
      " [141 145]\n",
      " [172 263]\n",
      " [206 231]\n",
      " [241 274]\n",
      " [ 33  41]\n",
      " [236 250]\n",
      " [ 25  29]\n",
      " [178 182]\n",
      " [211 285]\n",
      " [144 219]\n",
      " [225 242]\n",
      " [142 257]\n",
      " [244 255]\n",
      " [162 202]\n",
      " [239 278]\n",
      " [256 280]\n",
      " [169 177]\n",
      " [ 71 269]\n",
      " [163 295]\n",
      " [  7 290]\n",
      " [179 260]\n",
      " [  1 305]\n",
      " [277 288]\n",
      " [  9  17]\n",
      " [ 31 204]\n",
      " [252 275]\n",
      " [223 297]\n",
      " [205 287]\n",
      " [ 35 301]\n",
      " [124 234]\n",
      " [ 24 276]\n",
      " [ 18 272]\n",
      " [180 184]\n",
      " [166 259]\n",
      " [264 267]\n",
      " [289 292]\n",
      " [ 22 273]\n",
      " [188 262]\n",
      " [161 309]\n",
      " [195 197]\n",
      " [284 293]\n",
      " [266 281]\n",
      " [175 279]\n",
      " [237 312]\n",
      " [249 304]\n",
      " [189 315]\n",
      " [226 326]\n",
      " [271 320]\n",
      " [310 317]\n",
      " [192 194]\n",
      " [282 298]\n",
      " [303 307]\n",
      " [318 319]\n",
      " [227 268]\n",
      " [294 313]\n",
      " [185 340]\n",
      " [251 311]\n",
      " [306 324]\n",
      " [300 329]\n",
      " [296 302]\n",
      " [286 321]\n",
      " [ 27 347]\n",
      " [196 198]\n",
      " [333 349]\n",
      " [299 323]\n",
      " [240 291]\n",
      " [308 336]\n",
      " [199 334]\n",
      " [322 355]\n",
      " [325 331]\n",
      " [253 341]\n",
      " [193 350]\n",
      " [283 356]\n",
      " [328 339]\n",
      " [330 335]\n",
      " [327 332]\n",
      " [337 358]\n",
      " [343 345]\n",
      " [261 351]\n",
      " [344 357]\n",
      " [338 369]\n",
      " [342 346]\n",
      " [360 364]\n",
      " [316 367]\n",
      " [354 368]\n",
      " [314 359]\n",
      " [348 365]\n",
      " [372 376]\n",
      " [363 375]\n",
      " [361 379]\n",
      " [353 373]\n",
      " [370 374]\n",
      " [378 380]\n",
      " [362 366]\n",
      " [352 382]\n",
      " [371 385]\n",
      " [377 381]\n",
      " [383 389]\n",
      " [388 390]\n",
      " [384 386]\n",
      " [391 392]\n",
      " [387 395]\n",
      " [393 394]\n",
      " [396 397]]\n"
     ]
    }
   ],
   "source": [
    "print(hiearchical.children_)"
   ]
  },
  {
   "cell_type": "markdown",
   "id": "42cc7f4a",
   "metadata": {},
   "source": [
    "### visualization using KMeans method"
   ]
  },
  {
   "cell_type": "code",
   "execution_count": 15,
   "id": "ed533360",
   "metadata": {},
   "outputs": [
    {
     "data": {
      "text/plain": [
       "<matplotlib.legend.Legend at 0x1ae50f820>"
      ]
     },
     "execution_count": 15,
     "metadata": {},
     "output_type": "execute_result"
    },
    {
     "data": {
      "image/png": "[encoded data removed]",
      "text/plain": [
       "<Figure size 1080x576 with 1 Axes>"
      ]
     },
     "metadata": {
      "needs_background": "light"
     },
     "output_type": "display_data"
    }
   ],
   "source": [
    "plt.figure(figsize=(15, 8))\n",
    "colors = ['red', 'green', 'blue', 'brown', 'magenta']\n",
    "markers = ['.', '^', '1', 's', 'd']\n",
    "\n",
    "# create clusters\n",
    "for k in range(5):\n",
    "    plt.scatter(\n",
    "        df['Annual Income (k$)'][clusters == k], \n",
    "        df['Spending Score (1-100)'][clusters == k], \n",
    "        label=f\"cluster {k}\",\n",
    "        color=colors[k], \n",
    "        marker=markers[k])\n",
    "    \n",
    "plt.legend()"
   ]
  },
  {
   "cell_type": "markdown",
   "id": "933a61d8",
   "metadata": {},
   "source": [
    "### visualization using dendogram"
   ]
  },
  {
   "cell_type": "code",
   "execution_count": 39,
   "id": "7d551448",
   "metadata": {},
   "outputs": [],
   "source": [
    "from scipy.cluster.hierarchy import dendrogram\n",
    "from scipy.cluster import hierarchy"
   ]
  },
  {
   "cell_type": "code",
   "execution_count": 40,
   "id": "bea1780c",
   "metadata": {},
   "outputs": [],
   "source": [
    "linkage_matrix = hierarchy.linkage(hiearchical.children_)\n",
    "# print(linkage_matrix)"
   ]
  },
  {
   "cell_type": "code",
   "execution_count": 23,
   "id": "e41e8ec3",
   "metadata": {},
   "outputs": [
    {
     "data": {
      "image/png": "[encoded data removed]",
      "text/plain": [
       "<Figure size 1440x720 with 1 Axes>"
      ]
     },
     "metadata": {
      "needs_background": "light"
     },
     "output_type": "display_data"
    }
   ],
   "source": [
    "plt.figure(figsize=(20, 10))\n",
    "dn = dendrogram(linkage_matrix)"
   ]
  },
  {
   "cell_type": "code",
   "execution_count": 26,
   "id": "2995945a",
   "metadata": {},
   "outputs": [
    {
     "data": {
      "image/png": "[encoded data removed]",
      "text/plain": [
       "<Figure size 1440x720 with 1 Axes>"
      ]
     },
     "metadata": {
      "needs_background": "light"
     },
     "output_type": "display_data"
    }
   ],
   "source": [
    "plt.figure(figsize=(20, 10))\n",
    "dn = dendrogram(linkage_matrix, truncate_mode=\"lastp\", p=30)"
   ]
  },
  {
   "cell_type": "code",
   "execution_count": 28,
   "id": "28f0f51b",
   "metadata": {},
   "outputs": [
    {
     "data": {
      "image/png": "[encoded data removed]",
      "text/plain": [
       "<Figure size 1440x720 with 1 Axes>"
      ]
     },
     "metadata": {
      "needs_background": "light"
     },
     "output_type": "display_data"
    }
   ],
   "source": [
    "plt.figure(figsize=(20, 10))\n",
    "dn = dendrogram(linkage_matrix, truncate_mode=\"lastp\", p=10)"
   ]
  },
  {
   "cell_type": "code",
   "execution_count": null,
   "id": "0fd87a73",
   "metadata": {},
   "outputs": [],
   "source": []
  }
 ],
 "metadata": {
  "kernelspec": {
   "display_name": "Python 3",
   "language": "python",
   "name": "python3"
  },
  "language_info": {
   "codemirror_mode": {
    "name": "ipython",
    "version": 3
   },
   "file_extension": ".py",
   "mimetype": "text/x-python",
   "name": "python",
   "nbconvert_exporter": "python",
   "pygments_lexer": "ipython3",
   "version": "3.8.2"
  }
 },
 "nbformat": 4,
 "nbformat_minor": 5
}
