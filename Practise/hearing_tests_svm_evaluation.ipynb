{
 "cells": [
  {
   "cell_type": "markdown",
   "id": "06800f3c",
   "metadata": {},
   "source": [
    "## SVM Classification"
   ]
  },
  {
   "cell_type": "markdown",
   "id": "53c63466",
   "metadata": {},
   "source": [
    "### import required package"
   ]
  },
  {
   "cell_type": "code",
   "execution_count": 1,
   "id": "dbc58938",
   "metadata": {},
   "outputs": [],
   "source": [
    "import numpy as np\n",
    "import pandas as pd\n",
    "import seaborn as sns\n",
    "import matplotlib.pyplot as plt\n"
   ]
  },
  {
   "cell_type": "markdown",
   "id": "3ffa5b6c",
   "metadata": {},
   "source": [
    "### read data from source and describing"
   ]
  },
  {
   "cell_type": "code",
   "execution_count": 2,
   "id": "b52f0af3",
   "metadata": {},
   "outputs": [
    {
     "data": {
      "text/html": [
       "<div>\n",
       "<style scoped>\n",
       "    .dataframe tbody tr th:only-of-type {\n",
       "        vertical-align: middle;\n",
       "    }\n",
       "\n",
       "    .dataframe tbody tr th {\n",
       "        vertical-align: top;\n",
       "    }\n",
       "\n",
       "    .dataframe thead th {\n",
       "        text-align: right;\n",
       "    }\n",
       "</style>\n",
       "<table border=\"1\" class=\"dataframe\">\n",
       "  <thead>\n",
       "    <tr style=\"text-align: right;\">\n",
       "      <th></th>\n",
       "      <th>age</th>\n",
       "      <th>physical_score</th>\n",
       "      <th>test_result</th>\n",
       "    </tr>\n",
       "  </thead>\n",
       "  <tbody>\n",
       "    <tr>\n",
       "      <th>0</th>\n",
       "      <td>33.0</td>\n",
       "      <td>40.7</td>\n",
       "      <td>1</td>\n",
       "    </tr>\n",
       "    <tr>\n",
       "      <th>1</th>\n",
       "      <td>50.0</td>\n",
       "      <td>37.2</td>\n",
       "      <td>1</td>\n",
       "    </tr>\n",
       "    <tr>\n",
       "      <th>2</th>\n",
       "      <td>52.0</td>\n",
       "      <td>24.7</td>\n",
       "      <td>0</td>\n",
       "    </tr>\n",
       "    <tr>\n",
       "      <th>3</th>\n",
       "      <td>56.0</td>\n",
       "      <td>31.0</td>\n",
       "      <td>0</td>\n",
       "    </tr>\n",
       "    <tr>\n",
       "      <th>4</th>\n",
       "      <td>35.0</td>\n",
       "      <td>42.9</td>\n",
       "      <td>1</td>\n",
       "    </tr>\n",
       "  </tbody>\n",
       "</table>\n",
       "</div>"
      ],
      "text/plain": [
       "    age  physical_score  test_result\n",
       "0  33.0            40.7            1\n",
       "1  50.0            37.2            1\n",
       "2  52.0            24.7            0\n",
       "3  56.0            31.0            0\n",
       "4  35.0            42.9            1"
      ]
     },
     "execution_count": 2,
     "metadata": {},
     "output_type": "execute_result"
    }
   ],
   "source": [
    "df = pd.read_csv('hearing_test.csv')\n",
    "df.head()"
   ]
  },
  {
   "cell_type": "code",
   "execution_count": 3,
   "id": "a5f89cab",
   "metadata": {},
   "outputs": [
    {
     "name": "stdout",
     "output_type": "stream",
     "text": [
      "Index(['age', 'physical_score', 'test_result'], dtype='object')\n"
     ]
    }
   ],
   "source": [
    "print(df.columns)"
   ]
  },
  {
   "cell_type": "code",
   "execution_count": 4,
   "id": "2f672198",
   "metadata": {},
   "outputs": [
    {
     "name": "stdout",
     "output_type": "stream",
     "text": [
      "               age  physical_score  test_result\n",
      "count  5000.000000     5000.000000  5000.000000\n",
      "mean     51.609000       32.760260     0.600000\n",
      "std      11.287001        8.169802     0.489947\n",
      "min      18.000000       -0.000000     0.000000\n",
      "25%      43.000000       26.700000     0.000000\n",
      "50%      51.000000       35.300000     1.000000\n",
      "75%      60.000000       38.900000     1.000000\n",
      "max      90.000000       50.000000     1.000000\n"
     ]
    }
   ],
   "source": [
    "print(df.describe())"
   ]
  },
  {
   "cell_type": "code",
   "execution_count": 5,
   "id": "188e23a5",
   "metadata": {},
   "outputs": [
    {
     "name": "stdout",
     "output_type": "stream",
     "text": [
      "<class 'pandas.core.frame.DataFrame'>\n",
      "RangeIndex: 5000 entries, 0 to 4999\n",
      "Data columns (total 3 columns):\n",
      " #   Column          Non-Null Count  Dtype  \n",
      "---  ------          --------------  -----  \n",
      " 0   age             5000 non-null   float64\n",
      " 1   physical_score  5000 non-null   float64\n",
      " 2   test_result     5000 non-null   int64  \n",
      "dtypes: float64(2), int64(1)\n",
      "memory usage: 117.3 KB\n",
      "None\n"
     ]
    }
   ],
   "source": [
    "## chec for data types\n",
    "print(df.info())"
   ]
  },
  {
   "cell_type": "code",
   "execution_count": 6,
   "id": "92775e77",
   "metadata": {},
   "outputs": [
    {
     "data": {
      "text/plain": [
       "<seaborn.axisgrid.PairGrid at 0x21c35280c10>"
      ]
     },
     "execution_count": 6,
     "metadata": {},
     "output_type": "execute_result"
    },
    {
     "data": {
      "image/png": "[encoded data removed]",
      "text/plain": [
       "<Figure size 540x540 with 12 Axes>"
      ]
     },
     "metadata": {
      "needs_background": "light"
     },
     "output_type": "display_data"
    }
   ],
   "source": [
    "sns.pairplot(df)"
   ]
  },
  {
   "cell_type": "markdown",
   "id": "80ce6104",
   "metadata": {},
   "source": [
    "### check the relation between variables"
   ]
  },
  {
   "cell_type": "code",
   "execution_count": 7,
   "id": "7b110980",
   "metadata": {},
   "outputs": [
    {
     "data": {
      "text/html": [
       "<style  type=\"text/css\" >\n",
       "#T_67f10_row0_col0,#T_67f10_row1_col1,#T_67f10_row2_col2{\n",
       "            background-color:  #00441b;\n",
       "            color:  #f1f1f1;\n",
       "        }#T_67f10_row0_col1,#T_67f10_row0_col2,#T_67f10_row1_col0{\n",
       "            background-color:  #f7fcf5;\n",
       "            color:  #000000;\n",
       "        }#T_67f10_row1_col2{\n",
       "            background-color:  #006c2c;\n",
       "            color:  #f1f1f1;\n",
       "        }#T_67f10_row2_col0{\n",
       "            background-color:  #eff9ec;\n",
       "            color:  #000000;\n",
       "        }#T_67f10_row2_col1{\n",
       "            background-color:  #00692a;\n",
       "            color:  #f1f1f1;\n",
       "        }</style><table id=\"T_67f10_\" ><thead>    <tr>        <th class=\"blank level0\" ></th>        <th class=\"col_heading level0 col0\" >age</th>        <th class=\"col_heading level0 col1\" >physical_score</th>        <th class=\"col_heading level0 col2\" >test_result</th>    </tr></thead><tbody>\n",
       "                <tr>\n",
       "                        <th id=\"T_67f10_level0_row0\" class=\"row_heading level0 row0\" >age</th>\n",
       "                        <td id=\"T_67f10_row0_col0\" class=\"data row0 col0\" >1.000000</td>\n",
       "                        <td id=\"T_67f10_row0_col1\" class=\"data row0 col1\" >-0.782146</td>\n",
       "                        <td id=\"T_67f10_row0_col2\" class=\"data row0 col2\" >-0.683171</td>\n",
       "            </tr>\n",
       "            <tr>\n",
       "                        <th id=\"T_67f10_level0_row1\" class=\"row_heading level0 row1\" >physical_score</th>\n",
       "                        <td id=\"T_67f10_row1_col0\" class=\"data row1 col0\" >-0.782146</td>\n",
       "                        <td id=\"T_67f10_row1_col1\" class=\"data row1 col1\" >1.000000</td>\n",
       "                        <td id=\"T_67f10_row1_col2\" class=\"data row1 col2\" >0.792716</td>\n",
       "            </tr>\n",
       "            <tr>\n",
       "                        <th id=\"T_67f10_level0_row2\" class=\"row_heading level0 row2\" >test_result</th>\n",
       "                        <td id=\"T_67f10_row2_col0\" class=\"data row2 col0\" >-0.683171</td>\n",
       "                        <td id=\"T_67f10_row2_col1\" class=\"data row2 col1\" >0.792716</td>\n",
       "                        <td id=\"T_67f10_row2_col2\" class=\"data row2 col2\" >1.000000</td>\n",
       "            </tr>\n",
       "    </tbody></table>"
      ],
      "text/plain": [
       "<pandas.io.formats.style.Styler at 0x21c356710a0>"
      ]
     },
     "execution_count": 7,
     "metadata": {},
     "output_type": "execute_result"
    }
   ],
   "source": [
    "corr = df.corr()\n",
    "corr.style.background_gradient(cmap = 'Greens')"
   ]
  },
  {
   "cell_type": "markdown",
   "id": "68175bce",
   "metadata": {},
   "source": [
    "### select input and op variable"
   ]
  },
  {
   "cell_type": "code",
   "execution_count": 8,
   "id": "b433764f",
   "metadata": {},
   "outputs": [],
   "source": [
    "x = df.drop(['test_result'], axis=1)\n",
    "y = df['test_result']"
   ]
  },
  {
   "cell_type": "markdown",
   "id": "9d25f0c3",
   "metadata": {},
   "source": [
    "### splitting the data"
   ]
  },
  {
   "cell_type": "code",
   "execution_count": 9,
   "id": "e9ccf7b5",
   "metadata": {},
   "outputs": [],
   "source": [
    "from sklearn.model_selection import train_test_split\n",
    "x_train, x_test, y_train, y_test = train_test_split(x, y, random_state= 123456, train_size= 0.8)"
   ]
  },
  {
   "cell_type": "markdown",
   "id": "9e2cc02c",
   "metadata": {},
   "source": [
    "### creating a model"
   ]
  },
  {
   "cell_type": "code",
   "execution_count": 10,
   "id": "97c80a66",
   "metadata": {},
   "outputs": [],
   "source": [
    "from sklearn.svm import SVC\n",
    "model = SVC(C = 2)"
   ]
  },
  {
   "cell_type": "code",
   "execution_count": 11,
   "id": "65aca2c4",
   "metadata": {},
   "outputs": [
    {
     "data": {
      "text/plain": [
       "SVC(C=2)"
      ]
     },
     "execution_count": 11,
     "metadata": {},
     "output_type": "execute_result"
    }
   ],
   "source": [
    "## fit the data\n",
    "model.fit(x_train, y_train)"
   ]
  },
  {
   "cell_type": "markdown",
   "id": "f3ed343c",
   "metadata": {},
   "source": [
    "### parameters to fine tune model"
   ]
  },
  {
   "cell_type": "code",
   "execution_count": 12,
   "id": "5e204523",
   "metadata": {},
   "outputs": [
    {
     "name": "stdout",
     "output_type": "stream",
     "text": [
      "{'C': 2, 'break_ties': False, 'cache_size': 200, 'class_weight': None, 'coef0': 0.0, 'decision_function_shape': 'ovr', 'degree': 3, 'gamma': 'scale', 'kernel': 'rbf', 'max_iter': -1, 'probability': False, 'random_state': None, 'shrinking': True, 'tol': 0.001, 'verbose': False}\n"
     ]
    }
   ],
   "source": [
    "print(model.get_params())"
   ]
  },
  {
   "cell_type": "markdown",
   "id": "1db73a60",
   "metadata": {},
   "source": [
    "### predict the values for unseen data"
   ]
  },
  {
   "cell_type": "code",
   "execution_count": 13,
   "id": "4d41ec07",
   "metadata": {},
   "outputs": [],
   "source": [
    "y_prediction = model.predict(x_test)\n",
    "#print(y_prediction)\n"
   ]
  },
  {
   "cell_type": "markdown",
   "id": "bed91928",
   "metadata": {},
   "source": [
    "### evaluation of classification model"
   ]
  },
  {
   "cell_type": "code",
   "execution_count": 14,
   "id": "a92b649d",
   "metadata": {},
   "outputs": [
    {
     "name": "stdout",
     "output_type": "stream",
     "text": [
      "[[339  54]\n",
      " [ 21 586]]\n"
     ]
    }
   ],
   "source": [
    "from sklearn.metrics import confusion_matrix\n",
    "cm = confusion_matrix(y_test, y_prediction)\n",
    "print(cm)"
   ]
  },
  {
   "cell_type": "code",
   "execution_count": 15,
   "id": "e61469ed",
   "metadata": {},
   "outputs": [
    {
     "name": "stdout",
     "output_type": "stream",
     "text": [
      "0.925\n"
     ]
    }
   ],
   "source": [
    "correct = cm[0,0] + cm[1,1]\n",
    "wrong = cm[1,0] + cm[0,1]\n",
    "total = correct + wrong\n",
    "accuracy = correct/total\n",
    "print(accuracy)"
   ]
  },
  {
   "cell_type": "code",
   "execution_count": 16,
   "id": "a59debe9",
   "metadata": {},
   "outputs": [
    {
     "name": "stdout",
     "output_type": "stream",
     "text": [
      "0.925\n"
     ]
    }
   ],
   "source": [
    "from sklearn.metrics import accuracy_score\n",
    "print(accuracy_score(y_test, y_prediction))"
   ]
  },
  {
   "cell_type": "markdown",
   "id": "49efe763",
   "metadata": {},
   "source": [
    "### precision value"
   ]
  },
  {
   "cell_type": "code",
   "execution_count": 17,
   "id": "d9e22c7d",
   "metadata": {},
   "outputs": [
    {
     "name": "stdout",
     "output_type": "stream",
     "text": [
      "0.915625\n"
     ]
    }
   ],
   "source": [
    "from sklearn.metrics import precision_score\n",
    "print(precision_score(y_test, y_prediction))\n"
   ]
  },
  {
   "cell_type": "markdown",
   "id": "65d3de62",
   "metadata": {},
   "source": [
    "### recal value"
   ]
  },
  {
   "cell_type": "code",
   "execution_count": 18,
   "id": "44438e38",
   "metadata": {},
   "outputs": [
    {
     "name": "stdout",
     "output_type": "stream",
     "text": [
      "0.9654036243822076\n"
     ]
    }
   ],
   "source": [
    "from sklearn.metrics import recall_score\n",
    "print(recall_score(y_test, y_prediction))\n"
   ]
  },
  {
   "cell_type": "markdown",
   "id": "424f5d8b",
   "metadata": {},
   "source": [
    "### F1 score"
   ]
  },
  {
   "cell_type": "code",
   "execution_count": 19,
   "id": "21b7c486",
   "metadata": {},
   "outputs": [
    {
     "name": "stdout",
     "output_type": "stream",
     "text": [
      "0.9398556535685646\n"
     ]
    }
   ],
   "source": [
    "from sklearn.metrics import f1_score\n",
    "print(f1_score(y_test, y_prediction))"
   ]
  },
  {
   "cell_type": "markdown",
   "id": "46f7f1c7",
   "metadata": {},
   "source": [
    "### classification report"
   ]
  },
  {
   "cell_type": "code",
   "execution_count": 20,
   "id": "a9de31ea",
   "metadata": {},
   "outputs": [
    {
     "name": "stdout",
     "output_type": "stream",
     "text": [
      "              precision    recall  f1-score   support\n",
      "\n",
      "           0       0.94      0.86      0.90       393\n",
      "           1       0.92      0.97      0.94       607\n",
      "\n",
      "    accuracy                           0.93      1000\n",
      "   macro avg       0.93      0.91      0.92      1000\n",
      "weighted avg       0.93      0.93      0.92      1000\n",
      "\n"
     ]
    }
   ],
   "source": [
    "from sklearn.metrics import classification_report\n",
    "print(classification_report(y_test, y_prediction))"
   ]
  },
  {
   "cell_type": "code",
   "execution_count": 21,
   "id": "2e11eb96",
   "metadata": {},
   "outputs": [
    {
     "name": "stdout",
     "output_type": "stream",
     "text": [
      "0.9139995221147679\n"
     ]
    }
   ],
   "source": [
    "from sklearn.metrics import roc_curve, roc_auc_score, plot_roc_curve\n",
    "\n",
    "print(roc_auc_score(y_test, y_prediction))"
   ]
  },
  {
   "cell_type": "code",
   "execution_count": 22,
   "id": "b98c1ab1",
   "metadata": {},
   "outputs": [
    {
     "name": "stdout",
     "output_type": "stream",
     "text": [
      "[0.         0.13740458 1.        ]\n",
      "[0.         0.96540362 1.        ]\n",
      "[2 1 0]\n"
     ]
    },
    {
     "data": {
      "text/plain": [
       "[<matplotlib.lines.Line2D at 0x21c372fcb20>]"
      ]
     },
     "execution_count": 22,
     "metadata": {},
     "output_type": "execute_result"
    },
    {
     "data": {
      "image/png": "[encoded data removed]",
      "text/plain": [
       "<Figure size 432x288 with 1 Axes>"
      ]
     },
     "metadata": {
      "needs_background": "light"
     },
     "output_type": "display_data"
    }
   ],
   "source": [
    "fpr, tpr, threshold = roc_curve(y_test, y_prediction)\n",
    "print(fpr)\n",
    "print(tpr)\n",
    "print(threshold)\n",
    "plt.plot(fpr, tpr)"
   ]
  },
  {
   "cell_type": "code",
   "execution_count": 23,
   "id": "abe9e778",
   "metadata": {},
   "outputs": [
    {
     "data": {
      "text/plain": [
       "[<matplotlib.lines.Line2D at 0x21c3735b850>]"
      ]
     },
     "execution_count": 23,
     "metadata": {},
     "output_type": "execute_result"
    },
    {
     "data": {
      "image/png": "[encoded data removed]",
      "text/plain": [
       "<Figure size 432x288 with 1 Axes>"
      ]
     },
     "metadata": {
      "needs_background": "light"
     },
     "output_type": "display_data"
    }
   ],
   "source": [
    "plot = plot_roc_curve(model, x_test, y_test)\n",
    "plt.plot([0,1], [0,1], linestyle = '--')"
   ]
  },
  {
   "cell_type": "code",
   "execution_count": null,
   "id": "34226b6b",
   "metadata": {},
   "outputs": [],
   "source": []
  }
 ],
 "metadata": {
  "kernelspec": {
   "display_name": "Python 3",
   "language": "python",
   "name": "python3"
  },
  "language_info": {
   "codemirror_mode": {
    "name": "ipython",
    "version": 3
   },
   "file_extension": ".py",
   "mimetype": "text/x-python",
   "name": "python",
   "nbconvert_exporter": "python",
   "pygments_lexer": "ipython3",
   "version": "3.9.5"
  }
 },
 "nbformat": 4,
 "nbformat_minor": 5
}
